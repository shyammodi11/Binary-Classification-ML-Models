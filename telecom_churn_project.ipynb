{
  "nbformat": 4,
  "nbformat_minor": 0,
  "metadata": {
    "colab": {
      "name": "telecom_churn_project.ipynb",
      "provenance": [],
      "collapsed_sections": [],
      "authorship_tag": "ABX9TyMtPG2vjMP5fwEAygMbVFfS",
      "include_colab_link": true
    },
    "kernelspec": {
      "name": "python3",
      "display_name": "Python 3"
    },
    "language_info": {
      "name": "python"
    }
  },
  "cells": [
    {
      "cell_type": "markdown",
      "metadata": {
        "id": "view-in-github",
        "colab_type": "text"
      },
      "source": [
        "<a href=\"https://colab.research.google.com/github/shyammodi11/Binary-Classification-ML-Models/blob/main/telecom_churn_project.ipynb\" target=\"_parent\"><img src=\"https://colab.research.google.com/assets/colab-badge.svg\" alt=\"Open In Colab\"/></a>"
      ]
    },
    {
      "cell_type": "markdown",
      "source": [
        "# Problem Statement: \n",
        "Churn is a one of the biggest problem in the telecom industry. Churn rate is the percentage of subscribers that discontinue/cancel their subscription to a service in a given time period. Every industry tries to attract new customers while avoiding contract terminations from pre-existing customers. \n",
        "\n",
        "Based on all past information like age, gender, expenses etc, this project attempts to build a model which will predict whether a particular customer will churn or not. This will help companies reduce churning rate and future contract terminations from existing users.\n",
        "\n",
        "### This is a binary classification problem"
      ],
      "metadata": {
        "id": "o5cVMrXzW3w0"
      }
    },
    {
      "cell_type": "code",
      "execution_count": null,
      "metadata": {
        "id": "emZubPddbXT0"
      },
      "outputs": [],
      "source": [
        "# importing important libraries\n",
        "import pandas as pd\n",
        "import numpy as np\n",
        "import matplotlib.pyplot as plt\n",
        "import seaborn as sns\n",
        "import warnings\n",
        "warnings.filterwarnings('ignore')"
      ]
    },
    {
      "cell_type": "markdown",
      "source": [
        "## Loading the dataset \n",
        "The dataset consists of 21 feature columns. There are 7043 rows. The output variable is named 'Churn'. Most columns have categorical type data, but 'tenure', 'MonthlyCharges' and 'TotalCharges' are numerical.\n",
        "\n"
      ],
      "metadata": {
        "id": "n0dTkb69evL2"
      }
    },
    {
      "cell_type": "code",
      "source": [
        "df = pd.read_csv(\"/content/sample_data/telecom_churn.csv\")\n",
        "df.head()\n",
        "# first 5 rows"
      ],
      "metadata": {
        "colab": {
          "base_uri": "https://localhost:8080/",
          "height": 357
        },
        "id": "mQBnjKa8bgOV",
        "outputId": "5c9ac07f-286c-4e16-fca9-9289a03b9c62"
      },
      "execution_count": null,
      "outputs": [
        {
          "output_type": "execute_result",
          "data": {
            "text/html": [
              "\n",
              "  <div id=\"df-fa909610-e43a-4abc-b7f7-a5eb5b57d261\">\n",
              "    <div class=\"colab-df-container\">\n",
              "      <div>\n",
              "<style scoped>\n",
              "    .dataframe tbody tr th:only-of-type {\n",
              "        vertical-align: middle;\n",
              "    }\n",
              "\n",
              "    .dataframe tbody tr th {\n",
              "        vertical-align: top;\n",
              "    }\n",
              "\n",
              "    .dataframe thead th {\n",
              "        text-align: right;\n",
              "    }\n",
              "</style>\n",
              "<table border=\"1\" class=\"dataframe\">\n",
              "  <thead>\n",
              "    <tr style=\"text-align: right;\">\n",
              "      <th></th>\n",
              "      <th>customerID</th>\n",
              "      <th>gender</th>\n",
              "      <th>SeniorCitizen</th>\n",
              "      <th>Partner</th>\n",
              "      <th>Dependents</th>\n",
              "      <th>tenure</th>\n",
              "      <th>PhoneService</th>\n",
              "      <th>MultipleLines</th>\n",
              "      <th>InternetService</th>\n",
              "      <th>OnlineSecurity</th>\n",
              "      <th>OnlineBackup</th>\n",
              "      <th>DeviceProtection</th>\n",
              "      <th>TechSupport</th>\n",
              "      <th>StreamingTV</th>\n",
              "      <th>StreamingMovies</th>\n",
              "      <th>Contract</th>\n",
              "      <th>PaperlessBilling</th>\n",
              "      <th>PaymentMethod</th>\n",
              "      <th>MonthlyCharges</th>\n",
              "      <th>TotalCharges</th>\n",
              "      <th>Churn</th>\n",
              "    </tr>\n",
              "  </thead>\n",
              "  <tbody>\n",
              "    <tr>\n",
              "      <th>0</th>\n",
              "      <td>7590-VHVEG</td>\n",
              "      <td>Female</td>\n",
              "      <td>0</td>\n",
              "      <td>Yes</td>\n",
              "      <td>No</td>\n",
              "      <td>1</td>\n",
              "      <td>No</td>\n",
              "      <td>No phone service</td>\n",
              "      <td>DSL</td>\n",
              "      <td>No</td>\n",
              "      <td>Yes</td>\n",
              "      <td>No</td>\n",
              "      <td>No</td>\n",
              "      <td>No</td>\n",
              "      <td>No</td>\n",
              "      <td>Month-to-month</td>\n",
              "      <td>Yes</td>\n",
              "      <td>Electronic check</td>\n",
              "      <td>29.85</td>\n",
              "      <td>29.85</td>\n",
              "      <td>No</td>\n",
              "    </tr>\n",
              "    <tr>\n",
              "      <th>1</th>\n",
              "      <td>5575-GNVDE</td>\n",
              "      <td>Male</td>\n",
              "      <td>0</td>\n",
              "      <td>No</td>\n",
              "      <td>No</td>\n",
              "      <td>34</td>\n",
              "      <td>Yes</td>\n",
              "      <td>No</td>\n",
              "      <td>DSL</td>\n",
              "      <td>Yes</td>\n",
              "      <td>No</td>\n",
              "      <td>Yes</td>\n",
              "      <td>No</td>\n",
              "      <td>No</td>\n",
              "      <td>No</td>\n",
              "      <td>One year</td>\n",
              "      <td>No</td>\n",
              "      <td>Mailed check</td>\n",
              "      <td>56.95</td>\n",
              "      <td>1889.5</td>\n",
              "      <td>No</td>\n",
              "    </tr>\n",
              "    <tr>\n",
              "      <th>2</th>\n",
              "      <td>3668-QPYBK</td>\n",
              "      <td>Male</td>\n",
              "      <td>0</td>\n",
              "      <td>No</td>\n",
              "      <td>No</td>\n",
              "      <td>2</td>\n",
              "      <td>Yes</td>\n",
              "      <td>No</td>\n",
              "      <td>DSL</td>\n",
              "      <td>Yes</td>\n",
              "      <td>Yes</td>\n",
              "      <td>No</td>\n",
              "      <td>No</td>\n",
              "      <td>No</td>\n",
              "      <td>No</td>\n",
              "      <td>Month-to-month</td>\n",
              "      <td>Yes</td>\n",
              "      <td>Mailed check</td>\n",
              "      <td>53.85</td>\n",
              "      <td>108.15</td>\n",
              "      <td>Yes</td>\n",
              "    </tr>\n",
              "    <tr>\n",
              "      <th>3</th>\n",
              "      <td>7795-CFOCW</td>\n",
              "      <td>Male</td>\n",
              "      <td>0</td>\n",
              "      <td>No</td>\n",
              "      <td>No</td>\n",
              "      <td>45</td>\n",
              "      <td>No</td>\n",
              "      <td>No phone service</td>\n",
              "      <td>DSL</td>\n",
              "      <td>Yes</td>\n",
              "      <td>No</td>\n",
              "      <td>Yes</td>\n",
              "      <td>Yes</td>\n",
              "      <td>No</td>\n",
              "      <td>No</td>\n",
              "      <td>One year</td>\n",
              "      <td>No</td>\n",
              "      <td>Bank transfer (automatic)</td>\n",
              "      <td>42.30</td>\n",
              "      <td>1840.75</td>\n",
              "      <td>No</td>\n",
              "    </tr>\n",
              "    <tr>\n",
              "      <th>4</th>\n",
              "      <td>9237-HQITU</td>\n",
              "      <td>Female</td>\n",
              "      <td>0</td>\n",
              "      <td>No</td>\n",
              "      <td>No</td>\n",
              "      <td>2</td>\n",
              "      <td>Yes</td>\n",
              "      <td>No</td>\n",
              "      <td>Fiber optic</td>\n",
              "      <td>No</td>\n",
              "      <td>No</td>\n",
              "      <td>No</td>\n",
              "      <td>No</td>\n",
              "      <td>No</td>\n",
              "      <td>No</td>\n",
              "      <td>Month-to-month</td>\n",
              "      <td>Yes</td>\n",
              "      <td>Electronic check</td>\n",
              "      <td>70.70</td>\n",
              "      <td>151.65</td>\n",
              "      <td>Yes</td>\n",
              "    </tr>\n",
              "  </tbody>\n",
              "</table>\n",
              "</div>\n",
              "      <button class=\"colab-df-convert\" onclick=\"convertToInteractive('df-fa909610-e43a-4abc-b7f7-a5eb5b57d261')\"\n",
              "              title=\"Convert this dataframe to an interactive table.\"\n",
              "              style=\"display:none;\">\n",
              "        \n",
              "  <svg xmlns=\"http://www.w3.org/2000/svg\" height=\"24px\"viewBox=\"0 0 24 24\"\n",
              "       width=\"24px\">\n",
              "    <path d=\"M0 0h24v24H0V0z\" fill=\"none\"/>\n",
              "    <path d=\"M18.56 5.44l.94 2.06.94-2.06 2.06-.94-2.06-.94-.94-2.06-.94 2.06-2.06.94zm-11 1L8.5 8.5l.94-2.06 2.06-.94-2.06-.94L8.5 2.5l-.94 2.06-2.06.94zm10 10l.94 2.06.94-2.06 2.06-.94-2.06-.94-.94-2.06-.94 2.06-2.06.94z\"/><path d=\"M17.41 7.96l-1.37-1.37c-.4-.4-.92-.59-1.43-.59-.52 0-1.04.2-1.43.59L10.3 9.45l-7.72 7.72c-.78.78-.78 2.05 0 2.83L4 21.41c.39.39.9.59 1.41.59.51 0 1.02-.2 1.41-.59l7.78-7.78 2.81-2.81c.8-.78.8-2.07 0-2.86zM5.41 20L4 18.59l7.72-7.72 1.47 1.35L5.41 20z\"/>\n",
              "  </svg>\n",
              "      </button>\n",
              "      \n",
              "  <style>\n",
              "    .colab-df-container {\n",
              "      display:flex;\n",
              "      flex-wrap:wrap;\n",
              "      gap: 12px;\n",
              "    }\n",
              "\n",
              "    .colab-df-convert {\n",
              "      background-color: #E8F0FE;\n",
              "      border: none;\n",
              "      border-radius: 50%;\n",
              "      cursor: pointer;\n",
              "      display: none;\n",
              "      fill: #1967D2;\n",
              "      height: 32px;\n",
              "      padding: 0 0 0 0;\n",
              "      width: 32px;\n",
              "    }\n",
              "\n",
              "    .colab-df-convert:hover {\n",
              "      background-color: #E2EBFA;\n",
              "      box-shadow: 0px 1px 2px rgba(60, 64, 67, 0.3), 0px 1px 3px 1px rgba(60, 64, 67, 0.15);\n",
              "      fill: #174EA6;\n",
              "    }\n",
              "\n",
              "    [theme=dark] .colab-df-convert {\n",
              "      background-color: #3B4455;\n",
              "      fill: #D2E3FC;\n",
              "    }\n",
              "\n",
              "    [theme=dark] .colab-df-convert:hover {\n",
              "      background-color: #434B5C;\n",
              "      box-shadow: 0px 1px 3px 1px rgba(0, 0, 0, 0.15);\n",
              "      filter: drop-shadow(0px 1px 2px rgba(0, 0, 0, 0.3));\n",
              "      fill: #FFFFFF;\n",
              "    }\n",
              "  </style>\n",
              "\n",
              "      <script>\n",
              "        const buttonEl =\n",
              "          document.querySelector('#df-fa909610-e43a-4abc-b7f7-a5eb5b57d261 button.colab-df-convert');\n",
              "        buttonEl.style.display =\n",
              "          google.colab.kernel.accessAllowed ? 'block' : 'none';\n",
              "\n",
              "        async function convertToInteractive(key) {\n",
              "          const element = document.querySelector('#df-fa909610-e43a-4abc-b7f7-a5eb5b57d261');\n",
              "          const dataTable =\n",
              "            await google.colab.kernel.invokeFunction('convertToInteractive',\n",
              "                                                     [key], {});\n",
              "          if (!dataTable) return;\n",
              "\n",
              "          const docLinkHtml = 'Like what you see? Visit the ' +\n",
              "            '<a target=\"_blank\" href=https://colab.research.google.com/notebooks/data_table.ipynb>data table notebook</a>'\n",
              "            + ' to learn more about interactive tables.';\n",
              "          element.innerHTML = '';\n",
              "          dataTable['output_type'] = 'display_data';\n",
              "          await google.colab.output.renderOutput(dataTable, element);\n",
              "          const docLink = document.createElement('div');\n",
              "          docLink.innerHTML = docLinkHtml;\n",
              "          element.appendChild(docLink);\n",
              "        }\n",
              "      </script>\n",
              "    </div>\n",
              "  </div>\n",
              "  "
            ],
            "text/plain": [
              "   customerID  gender  SeniorCitizen  ... MonthlyCharges TotalCharges  Churn\n",
              "0  7590-VHVEG  Female              0  ...          29.85        29.85     No\n",
              "1  5575-GNVDE    Male              0  ...          56.95       1889.5     No\n",
              "2  3668-QPYBK    Male              0  ...          53.85       108.15    Yes\n",
              "3  7795-CFOCW    Male              0  ...          42.30      1840.75     No\n",
              "4  9237-HQITU  Female              0  ...          70.70       151.65    Yes\n",
              "\n",
              "[5 rows x 21 columns]"
            ]
          },
          "metadata": {},
          "execution_count": 2
        }
      ]
    },
    {
      "cell_type": "code",
      "source": [
        "df.info()\n",
        "# datatypes of all columns"
      ],
      "metadata": {
        "colab": {
          "base_uri": "https://localhost:8080/"
        },
        "id": "V0m7Zy18gK67",
        "outputId": "d869f23c-547e-4886-db8e-456166a2217a"
      },
      "execution_count": null,
      "outputs": [
        {
          "output_type": "stream",
          "name": "stdout",
          "text": [
            "<class 'pandas.core.frame.DataFrame'>\n",
            "RangeIndex: 7043 entries, 0 to 7042\n",
            "Data columns (total 21 columns):\n",
            " #   Column            Non-Null Count  Dtype  \n",
            "---  ------            --------------  -----  \n",
            " 0   customerID        7043 non-null   object \n",
            " 1   gender            7043 non-null   object \n",
            " 2   SeniorCitizen     7043 non-null   int64  \n",
            " 3   Partner           7043 non-null   object \n",
            " 4   Dependents        7043 non-null   object \n",
            " 5   tenure            7043 non-null   int64  \n",
            " 6   PhoneService      7043 non-null   object \n",
            " 7   MultipleLines     7043 non-null   object \n",
            " 8   InternetService   7043 non-null   object \n",
            " 9   OnlineSecurity    7043 non-null   object \n",
            " 10  OnlineBackup      7043 non-null   object \n",
            " 11  DeviceProtection  7043 non-null   object \n",
            " 12  TechSupport       7043 non-null   object \n",
            " 13  StreamingTV       7043 non-null   object \n",
            " 14  StreamingMovies   7043 non-null   object \n",
            " 15  Contract          7043 non-null   object \n",
            " 16  PaperlessBilling  7043 non-null   object \n",
            " 17  PaymentMethod     7043 non-null   object \n",
            " 18  MonthlyCharges    7043 non-null   float64\n",
            " 19  TotalCharges      7043 non-null   object \n",
            " 20  Churn             7043 non-null   object \n",
            "dtypes: float64(1), int64(2), object(18)\n",
            "memory usage: 1.1+ MB\n"
          ]
        }
      ]
    },
    {
      "cell_type": "markdown",
      "source": [
        "## Checking for null/missing values"
      ],
      "metadata": {
        "id": "HDKXgdbdgQVR"
      }
    },
    {
      "cell_type": "code",
      "source": [
        "df.isnull().sum()\n",
        "# no null values found"
      ],
      "metadata": {
        "colab": {
          "base_uri": "https://localhost:8080/"
        },
        "id": "Dy32So45gQqb",
        "outputId": "e9bccb86-9cfc-498e-e649-508f80f8f3ee"
      },
      "execution_count": null,
      "outputs": [
        {
          "output_type": "execute_result",
          "data": {
            "text/plain": [
              "customerID          0\n",
              "gender              0\n",
              "SeniorCitizen       0\n",
              "Partner             0\n",
              "Dependents          0\n",
              "tenure              0\n",
              "PhoneService        0\n",
              "MultipleLines       0\n",
              "InternetService     0\n",
              "OnlineSecurity      0\n",
              "OnlineBackup        0\n",
              "DeviceProtection    0\n",
              "TechSupport         0\n",
              "StreamingTV         0\n",
              "StreamingMovies     0\n",
              "Contract            0\n",
              "PaperlessBilling    0\n",
              "PaymentMethod       0\n",
              "MonthlyCharges      0\n",
              "TotalCharges        0\n",
              "Churn               0\n",
              "dtype: int64"
            ]
          },
          "metadata": {},
          "execution_count": 4
        }
      ]
    },
    {
      "cell_type": "code",
      "source": [
        "df.drop(\"customerID\",axis = 1, inplace = True) # not needed for modelling"
      ],
      "metadata": {
        "id": "R64HFUbviJ6v"
      },
      "execution_count": null,
      "outputs": []
    },
    {
      "cell_type": "code",
      "source": [
        "# Unique/distinct values in categorical feature columns\n",
        "for col in df.select_dtypes(object):\n",
        "  print(col)\n",
        "  print(df[col].unique())"
      ],
      "metadata": {
        "colab": {
          "base_uri": "https://localhost:8080/"
        },
        "id": "rLamRwR6i__M",
        "outputId": "a2d546a7-5836-4773-c30e-62a8c3628680"
      },
      "execution_count": null,
      "outputs": [
        {
          "output_type": "stream",
          "name": "stdout",
          "text": [
            "gender\n",
            "['Female' 'Male']\n",
            "Partner\n",
            "['Yes' 'No']\n",
            "Dependents\n",
            "['No' 'Yes']\n",
            "PhoneService\n",
            "['No' 'Yes']\n",
            "MultipleLines\n",
            "['No phone service' 'No' 'Yes']\n",
            "InternetService\n",
            "['DSL' 'Fiber optic' 'No']\n",
            "OnlineSecurity\n",
            "['No' 'Yes' 'No internet service']\n",
            "OnlineBackup\n",
            "['Yes' 'No' 'No internet service']\n",
            "DeviceProtection\n",
            "['No' 'Yes' 'No internet service']\n",
            "TechSupport\n",
            "['No' 'Yes' 'No internet service']\n",
            "StreamingTV\n",
            "['No' 'Yes' 'No internet service']\n",
            "StreamingMovies\n",
            "['No' 'Yes' 'No internet service']\n",
            "Contract\n",
            "['Month-to-month' 'One year' 'Two year']\n",
            "PaperlessBilling\n",
            "['Yes' 'No']\n",
            "PaymentMethod\n",
            "['Electronic check' 'Mailed check' 'Bank transfer (automatic)'\n",
            " 'Credit card (automatic)']\n",
            "TotalCharges\n",
            "['29.85' '1889.5' '108.15' ... '346.45' '306.6' '6844.5']\n",
            "Churn\n",
            "['No' 'Yes']\n"
          ]
        }
      ]
    },
    {
      "cell_type": "code",
      "source": [
        "df['TotalCharges'].value_counts()"
      ],
      "metadata": {
        "colab": {
          "base_uri": "https://localhost:8080/"
        },
        "id": "_dz4s3DYjUGV",
        "outputId": "6258a707-0a67-4c57-82c5-de387690b39f"
      },
      "execution_count": null,
      "outputs": [
        {
          "output_type": "execute_result",
          "data": {
            "text/plain": [
              "          11\n",
              "20.2      11\n",
              "19.75      9\n",
              "20.05      8\n",
              "19.9       8\n",
              "          ..\n",
              "6849.4     1\n",
              "692.35     1\n",
              "130.15     1\n",
              "3211.9     1\n",
              "6844.5     1\n",
              "Name: TotalCharges, Length: 6531, dtype: int64"
            ]
          },
          "metadata": {},
          "execution_count": 7
        }
      ]
    },
    {
      "cell_type": "code",
      "source": [
        "df['TotalCharges'].replace(' ', np.nan, inplace = True)\n",
        "df['TotalCharges'].isnull().sum()"
      ],
      "metadata": {
        "colab": {
          "base_uri": "https://localhost:8080/"
        },
        "id": "3YVX0vuvjvAp",
        "outputId": "5806a625-7e39-4327-c1d2-d063704497c3"
      },
      "execution_count": null,
      "outputs": [
        {
          "output_type": "execute_result",
          "data": {
            "text/plain": [
              "11"
            ]
          },
          "metadata": {},
          "execution_count": 8
        }
      ]
    },
    {
      "cell_type": "code",
      "source": [
        "df['TotalCharges'] = df['TotalCharges'].astype('float64')\n",
        "m = df['TotalCharges'].mean()\n",
        "df['TotalCharges'].fillna(m, inplace =True)"
      ],
      "metadata": {
        "id": "oN4lnHfYk9hH"
      },
      "execution_count": null,
      "outputs": []
    },
    {
      "cell_type": "markdown",
      "source": [
        "## Label Encoding \n",
        "(Treating Categorical data) - transforming into numerical data"
      ],
      "metadata": {
        "id": "Wx_YeZ2fglKv"
      }
    },
    {
      "cell_type": "code",
      "source": [
        "df_cat = df.select_dtypes(object)\n",
        "df_num = df.select_dtypes(['float64', 'int64'])"
      ],
      "metadata": {
        "id": "55wkgY1Sk_sL"
      },
      "execution_count": null,
      "outputs": []
    },
    {
      "cell_type": "code",
      "source": [
        "df_cat.info()"
      ],
      "metadata": {
        "colab": {
          "base_uri": "https://localhost:8080/"
        },
        "id": "zewziZkesN96",
        "outputId": "cf8f3afe-c64e-499b-ca45-b0ad1ad31523"
      },
      "execution_count": null,
      "outputs": [
        {
          "output_type": "stream",
          "name": "stdout",
          "text": [
            "<class 'pandas.core.frame.DataFrame'>\n",
            "RangeIndex: 7043 entries, 0 to 7042\n",
            "Data columns (total 16 columns):\n",
            " #   Column            Non-Null Count  Dtype \n",
            "---  ------            --------------  ----- \n",
            " 0   gender            7043 non-null   object\n",
            " 1   Partner           7043 non-null   object\n",
            " 2   Dependents        7043 non-null   object\n",
            " 3   PhoneService      7043 non-null   object\n",
            " 4   MultipleLines     7043 non-null   object\n",
            " 5   InternetService   7043 non-null   object\n",
            " 6   OnlineSecurity    7043 non-null   object\n",
            " 7   OnlineBackup      7043 non-null   object\n",
            " 8   DeviceProtection  7043 non-null   object\n",
            " 9   TechSupport       7043 non-null   object\n",
            " 10  StreamingTV       7043 non-null   object\n",
            " 11  StreamingMovies   7043 non-null   object\n",
            " 12  Contract          7043 non-null   object\n",
            " 13  PaperlessBilling  7043 non-null   object\n",
            " 14  PaymentMethod     7043 non-null   object\n",
            " 15  Churn             7043 non-null   object\n",
            "dtypes: object(16)\n",
            "memory usage: 880.5+ KB\n"
          ]
        }
      ]
    },
    {
      "cell_type": "code",
      "source": [
        "from sklearn.preprocessing import LabelEncoder\n",
        "le = LabelEncoder()\n",
        "for i in df_cat:\n",
        "  df_cat[i] = le.fit_transform(df_cat[i])"
      ],
      "metadata": {
        "id": "ZwfkoEh7sW00"
      },
      "execution_count": null,
      "outputs": []
    },
    {
      "cell_type": "markdown",
      "source": [
        "# Visualizing distributions\n",
        "Understanding data with respect to Churn feature. Handling outliers, skewsness and others inconsistencies.\n"
      ],
      "metadata": {
        "id": "DXSP7Y5khEew"
      }
    },
    {
      "cell_type": "code",
      "source": [
        "# Checking distribution and Skewness\n",
        "for i in df_num:\n",
        "  print(\"column\",i,df_num[i].skew())\n",
        "  sns.distplot(df_num, x = df[i])\n",
        "  plt.show()"
      ],
      "metadata": {
        "colab": {
          "base_uri": "https://localhost:8080/",
          "height": 1000
        },
        "id": "851cVhHWsulu",
        "outputId": "cecc0ce4-b439-430f-bc2d-f368416228f4"
      },
      "execution_count": null,
      "outputs": [
        {
          "output_type": "stream",
          "name": "stdout",
          "text": [
            "column SeniorCitizen 1.8336327440928564\n"
          ]
        },
        {
          "output_type": "display_data",
          "data": {
            "image/png": "[encoded data removed]",
            "text/plain": [
              "<Figure size 432x288 with 1 Axes>"
            ]
          },
          "metadata": {
            "needs_background": "light"
          }
        },
        {
          "output_type": "stream",
          "name": "stdout",
          "text": [
            "column tenure 0.2395397495619829\n"
          ]
        },
        {
          "output_type": "display_data",
          "data": {
            "image/png": "[encoded data removed]",
            "text/plain": [
              "<Figure size 432x288 with 1 Axes>"
            ]
          },
          "metadata": {
            "needs_background": "light"
          }
        },
        {
          "output_type": "stream",
          "name": "stdout",
          "text": [
            "column MonthlyCharges -0.22052443394398033\n"
          ]
        },
        {
          "output_type": "display_data",
          "data": {
            "image/png": "[encoded data removed]",
            "text/plain": [
              "<Figure size 432x288 with 1 Axes>"
            ]
          },
          "metadata": {
            "needs_background": "light"
          }
        },
        {
          "output_type": "stream",
          "name": "stdout",
          "text": [
            "column TotalCharges 0.9623940229874866\n"
          ]
        },
        {
          "output_type": "display_data",
          "data": {
            "image/png": "[encoded data removed]",
            "text/plain": [
              "<Figure size 432x288 with 1 Axes>"
            ]
          },
          "metadata": {
            "needs_background": "light"
          }
        }
      ]
    },
    {
      "cell_type": "code",
      "source": [
        "df_num['SeniorCitizen'] = np.sqrt(df_num['SeniorCitizen'])\n",
        "# df_num['TotalCharges'] = np.sqrt(df_num['TotalCharges'])"
      ],
      "metadata": {
        "id": "4cNnYbnSsxOc"
      },
      "execution_count": null,
      "outputs": []
    },
    {
      "cell_type": "code",
      "source": [
        "df_new = pd.concat([df_num, df_cat], axis = 1)"
      ],
      "metadata": {
        "id": "XNyBn5cwtkcb"
      },
      "execution_count": null,
      "outputs": []
    },
    {
      "cell_type": "code",
      "source": [
        "# Understand the relation of input variable with the output variables using correlation\n",
        "plt.figure(figsize=(15,8))\n",
        "df_new.corr()['Churn'].sort_values(ascending = False).plot(kind='bar')\n",
        "plt.title(\"Correlation of input variables with the ouptut\")\n",
        "plt.show()"
      ],
      "metadata": {
        "colab": {
          "base_uri": "https://localhost:8080/",
          "height": 575
        },
        "id": "yz3a17QdtTex",
        "outputId": "96cd2838-8952-429c-93ff-c598f5166bd7"
      },
      "execution_count": null,
      "outputs": [
        {
          "output_type": "display_data",
          "data": {
            "image/png": "[encoded data removed]",
            "text/plain": [
              "<Figure size 1080x576 with 1 Axes>"
            ]
          },
          "metadata": {
            "needs_background": "light"
          }
        }
      ]
    },
    {
      "cell_type": "code",
      "source": [
        "# plt.subplots(1,2, figsize = (15,5))\n",
        "sns.countplot(df_new['Churn'])\n",
        "plt.title(\"Distribution of Churn values\")\n",
        "plt.figure(figsize = (6,6))\n",
        "df_new['Churn'].value_counts().plot(kind=\"pie\",autopct=\"%f%%\",\n",
        "                                     explode=(0,0),\n",
        "                                     colors=[\"red\",\"pink\"])\n",
        "plt.show()"
      ],
      "metadata": {
        "colab": {
          "base_uri": "https://localhost:8080/",
          "height": 635
        },
        "id": "2E3Dh_kYurLg",
        "outputId": "3d3ba2aa-1592-407c-fe22-d169dba1ee41"
      },
      "execution_count": null,
      "outputs": [
        {
          "output_type": "display_data",
          "data": {
            "image/png": "[encoded data removed]",
            "text/plain": [
              "<Figure size 432x288 with 1 Axes>"
            ]
          },
          "metadata": {
            "needs_background": "light"
          }
        },
        {
          "output_type": "display_data",
          "data": {
            "image/png": "[encoded data removed]",
            "text/plain": [
              "<Figure size 432x432 with 1 Axes>"
            ]
          },
          "metadata": {}
        }
      ]
    },
    {
      "cell_type": "code",
      "source": [
        "plt.figure(figsize= (6,6))\n",
        "plt.title(\"16% of senior citizens in this dataset\")\n",
        "df_new['SeniorCitizen'].value_counts().plot(kind=\"pie\",autopct=\"%d%%\",\n",
        "                                     explode=(0,0))\n",
        "plt.show()"
      ],
      "metadata": {
        "colab": {
          "base_uri": "https://localhost:8080/",
          "height": 373
        },
        "id": "r2sx-XosubX3",
        "outputId": "024bbf71-49fa-4737-b4da-ea59107ca8d3"
      },
      "execution_count": null,
      "outputs": [
        {
          "output_type": "display_data",
          "data": {
            "image/png": "[encoded data removed]",
            "text/plain": [
              "<Figure size 432x432 with 1 Axes>"
            ]
          },
          "metadata": {}
        }
      ]
    },
    {
      "cell_type": "code",
      "source": [
        "ax = df['Contract'].value_counts().plot(kind = 'bar',rot = 0, width = 0.3,)\n",
        "plt.title(\"Customers by contract(year-wise)\")\n",
        "plt.show()"
      ],
      "metadata": {
        "colab": {
          "base_uri": "https://localhost:8080/",
          "height": 281
        },
        "id": "RMRs0RJh6gwf",
        "outputId": "07f06d35-04af-4210-c355-b39fadac5433"
      },
      "execution_count": null,
      "outputs": [
        {
          "output_type": "display_data",
          "data": {
            "image/png": "[encoded data removed]",
            "text/plain": [
              "<Figure size 432x288 with 1 Axes>"
            ]
          },
          "metadata": {
            "needs_background": "light"
          }
        }
      ]
    },
    {
      "cell_type": "markdown",
      "source": [
        "## Handling outliers"
      ],
      "metadata": {
        "id": "LXq2__hNj1gD"
      }
    },
    {
      "cell_type": "code",
      "source": [
        "# Treat Outliers\n",
        "sns.set(style='whitegrid')\n",
        "sns.boxplot(data = df_new, x = 'Churn', y = 'TotalCharges')\n",
        "plt.show()"
      ],
      "metadata": {
        "colab": {
          "base_uri": "https://localhost:8080/",
          "height": 285
        },
        "id": "nMz17Dk9s4ZE",
        "outputId": "80d0a106-909e-487e-f7e3-2fcc8c278d8a"
      },
      "execution_count": null,
      "outputs": [
        {
          "output_type": "display_data",
          "data": {
            "image/png": "[encoded data removed]",
            "text/plain": [
              "<Figure size 432x288 with 1 Axes>"
            ]
          },
          "metadata": {}
        }
      ]
    },
    {
      "cell_type": "code",
      "source": [
        "df_new[(df_new['TotalCharges']>5800) & (df_new['Churn']==1)].index"
      ],
      "metadata": {
        "colab": {
          "base_uri": "https://localhost:8080/"
        },
        "id": "E0x_D0tD-_SH",
        "outputId": "3821b69c-d423-4f5e-ee01-ccef5a250b63"
      },
      "execution_count": null,
      "outputs": [
        {
          "output_type": "execute_result",
          "data": {
            "text/plain": [
              "Int64Index([ 104,  339,  402,  445,  609,  635,  799,  810,  811,  855,  889,\n",
              "             975,  978, 1263, 1268, 1306, 1327, 1339, 1396, 1477, 1547, 1575,\n",
              "            1612, 1701, 1840, 1950, 1981, 1988, 2019, 2029, 2204, 2277, 2282,\n",
              "            2287, 2297, 2424, 2609, 2614, 2812, 2877, 2879, 2973, 2997, 3040,\n",
              "            3111, 3439, 3517, 3694, 3730, 3788, 3849, 3890, 4074, 4083, 4140,\n",
              "            4265, 4266, 4287, 4395, 4513, 4610, 4684, 4792, 4982, 4991, 5050,\n",
              "            5127, 5258, 5414, 5541, 5544, 5579, 5581, 5684, 5697, 5702, 5765,\n",
              "            6016, 6032, 6035, 6038, 6082, 6105, 6289, 6290, 6333, 6398, 6408,\n",
              "            6448, 6537, 6605, 6785, 6853, 6945, 6972, 7034],\n",
              "           dtype='int64')"
            ]
          },
          "metadata": {},
          "execution_count": 21
        }
      ]
    },
    {
      "cell_type": "code",
      "source": [
        "df_new.drop([ 104,  339,  402,  445,  609,  635,  799,  810,  811,  855,  889,\n",
        "             975,  978, 1263, 1268, 1306, 1327, 1339, 1396, 1477, 1547, 1575,\n",
        "            1612, 1701, 1840, 1950, 1981, 1988, 2019, 2029, 2204, 2277, 2282,\n",
        "            2287, 2297, 2424, 2609, 2614, 2812, 2877, 2879, 2973, 2997, 3040,\n",
        "            3111, 3439, 3517, 3694, 3730, 3788, 3849, 3890, 4074, 4083, 4140,\n",
        "            4265, 4266, 4287, 4395, 4513, 4610, 4684, 4792, 4982, 4991, 5050,\n",
        "            5127, 5258, 5414, 5541, 5544, 5579, 5581, 5684, 5697, 5702, 5765,\n",
        "            6016, 6032, 6035, 6038, 6082, 6105, 6289, 6290, 6333, 6398, 6408,\n",
        "            6448, 6537, 6605, 6785, 6853, 6945, 6972, 7034], inplace=True)"
      ],
      "metadata": {
        "id": "HG4Y35Hj_UEF"
      },
      "execution_count": null,
      "outputs": []
    },
    {
      "cell_type": "code",
      "source": [
        "sns.set(style='whitegrid')\n",
        "sns.boxplot(data = df_new, x = 'Churn', y = 'tenure')\n",
        "plt.show()"
      ],
      "metadata": {
        "colab": {
          "base_uri": "https://localhost:8080/",
          "height": 285
        },
        "id": "Bg2RNreGsP9M",
        "outputId": "b6d0a412-8c99-4f71-8083-8b34f116fa70"
      },
      "execution_count": null,
      "outputs": [
        {
          "output_type": "display_data",
          "data": {
            "image/png": "[encoded data removed]",
            "text/plain": [
              "<Figure size 432x288 with 1 Axes>"
            ]
          },
          "metadata": {}
        }
      ]
    },
    {
      "cell_type": "code",
      "source": [
        "df_new[(df_new['tenure']>57) & (df_new['Churn']==1)].index"
      ],
      "metadata": {
        "colab": {
          "base_uri": "https://localhost:8080/"
        },
        "id": "M5z564eXtu_2",
        "outputId": "1c719c53-4c75-49cc-ebb9-8f46d70d5864"
      },
      "execution_count": null,
      "outputs": [
        {
          "output_type": "execute_result",
          "data": {
            "text/plain": [
              "Int64Index([ 168,  268,  335,  430,  828,  868,  873, 1171, 1365, 1967, 2480,\n",
              "            2567, 3415, 3779, 3803, 4149, 4418, 4539, 4642, 4698, 5441, 5841,\n",
              "            5992, 6357, 6424, 6507, 6724, 6813, 6824],\n",
              "           dtype='int64')"
            ]
          },
          "metadata": {},
          "execution_count": 24
        }
      ]
    },
    {
      "cell_type": "code",
      "source": [
        "df_new.drop([ 168,  268,  335,  430,  828,  868,  873, 1171, 1365, 1967, 2480,\n",
        "            2567, 3415, 3779, 3803, 4149, 4418, 4539, 4642, 4698, 5441, 5841,\n",
        "            5992, 6357, 6424, 6507, 6724, 6813, 6824], inplace = True)"
      ],
      "metadata": {
        "id": "QtPt5UF-ueGH"
      },
      "execution_count": null,
      "outputs": []
    },
    {
      "cell_type": "markdown",
      "source": [
        "## Train-Test Split\n",
        "Dividing data, standardizing and sampling training/testing set to balance the output variable."
      ],
      "metadata": {
        "id": "U9IN718TjUFW"
      }
    },
    {
      "cell_type": "code",
      "source": [
        "X = df_new.drop(\"Churn\", axis = 1)\n",
        "Y = df_new[\"Churn\"]"
      ],
      "metadata": {
        "id": "jbViEm7xxJ7D"
      },
      "execution_count": null,
      "outputs": []
    },
    {
      "cell_type": "code",
      "source": [
        "from sklearn.model_selection import train_test_split\n",
        "X_train, X_test, Y_train, Y_test = train_test_split(X,Y, test_size = 0.3, random_state = 1)"
      ],
      "metadata": {
        "id": "yXaDXsbpbTZt"
      },
      "execution_count": null,
      "outputs": []
    },
    {
      "cell_type": "code",
      "source": [
        "# StandardScaler implemented\n",
        "from sklearn.preprocessing import StandardScaler\n",
        "# fit_transform on training data X_train, and transform on testing_data means  \n",
        "# create object of StandardScaler class. Apply scaling only on input/independent variables\n",
        "\n",
        "ss = StandardScaler()\n",
        "X_train = ss.fit_transform(X_train)\n",
        "X_test = ss.transform(X_test)\n",
        "print(\"After scaling training data\")\n",
        "print(X_train)\n",
        "print(\"After scaling testing data\")\n",
        "print(X_test)"
      ],
      "metadata": {
        "colab": {
          "base_uri": "https://localhost:8080/"
        },
        "id": "EVeYBAMibZS5",
        "outputId": "1d709463-d09c-43e6-d034-a3eb99047921"
      },
      "execution_count": null,
      "outputs": [
        {
          "output_type": "stream",
          "name": "stdout",
          "text": [
            "After scaling training data\n",
            "[[ 2.29255621 -0.55870948  0.99588946 ... -0.8218879  -1.19868238\n",
            "  -1.47534433]\n",
            " [-0.43619432 -0.51771244  0.48930368 ... -0.8218879   0.83424935\n",
            "  -1.47534433]\n",
            " [ 2.29255621  1.65513036  1.14419912 ...  1.5725653  -1.19868238\n",
            "  -1.47534433]\n",
            " ...\n",
            " [-0.43619432  1.32715409  1.01921907 ...  1.5725653   0.83424935\n",
            "  -0.54129396]\n",
            " [-0.43619432 -0.55870948  0.30433321 ... -0.8218879   0.83424935\n",
            "   0.39275641]\n",
            " [-0.43619432  0.54821044  0.84258061 ... -0.8218879   0.83424935\n",
            "  -0.54129396]]\n",
            "After scaling testing data\n",
            "[[-0.43619432 -0.51771244 -1.47871545 ...  1.5725653  -1.19868238\n",
            "   1.32680678]\n",
            " [-0.43619432  1.57313629 -0.47220948 ...  1.5725653   0.83424935\n",
            "  -1.47534433]\n",
            " [ 2.29255621  1.16316595  1.34416719 ...  0.3753387   0.83424935\n",
            "   0.39275641]\n",
            " ...\n",
            " [ 2.29255621  0.63020451 -0.14726136 ...  1.5725653  -1.19868238\n",
            "  -1.47534433]\n",
            " [-0.43619432  1.20416299  1.00422147 ... -0.8218879  -1.19868238\n",
            "  -0.54129396]\n",
            " [-0.43619432 -0.51771244  1.30917278 ... -0.8218879  -1.19868238\n",
            "   0.39275641]]\n"
          ]
        }
      ]
    },
    {
      "cell_type": "code",
      "source": [
        "from imblearn.under_sampling import RandomUnderSampler\n",
        "from imblearn.over_sampling import RandomOverSampler\n",
        "ros = RandomOverSampler()\n",
        "# fit_resample() inbuilt method of RandomOverSampler() class"
      ],
      "metadata": {
        "id": "rlq3BVczbxO6"
      },
      "execution_count": null,
      "outputs": []
    },
    {
      "cell_type": "code",
      "source": [
        "X_train, Y_train = ros.fit_resample(X_train, Y_train)\n",
        "X_test, Y_test = ros.fit_resample(X_test, Y_test)\n",
        "pd.Series(Y_train).value_counts()"
      ],
      "metadata": {
        "colab": {
          "base_uri": "https://localhost:8080/"
        },
        "id": "RtKXyVaGcAC7",
        "outputId": "f2dbb673-1b24-4739-ae62-16ce864d516f"
      },
      "execution_count": null,
      "outputs": [
        {
          "output_type": "execute_result",
          "data": {
            "text/plain": [
              "0    3634\n",
              "1    3634\n",
              "Name: Churn, dtype: int64"
            ]
          },
          "metadata": {},
          "execution_count": 30
        }
      ]
    },
    {
      "cell_type": "markdown",
      "source": [
        "## Model building and implementation\n",
        "Building a generalized function to implement our classification algorithms"
      ],
      "metadata": {
        "id": "LHyMbPfakbAW"
      }
    },
    {
      "cell_type": "code",
      "source": [
        "def create_model(model):\n",
        "    model.fit(X_train,Y_train)#train the model\n",
        "    Y_pred=model.predict(X_test) #test\n",
        "    print(classification_report(Y_test,Y_pred))\n",
        "    print(\"Confusion Matrix : \")\n",
        "    #Confusion matrix\n",
        "    print(confusion_matrix(Y_test,Y_pred))\n",
        "    return model"
      ],
      "metadata": {
        "id": "uHLrzdAMbaLt"
      },
      "execution_count": null,
      "outputs": []
    },
    {
      "cell_type": "code",
      "source": [
        "from sklearn.metrics import confusion_matrix\n",
        "from sklearn.metrics import classification_report\n",
        "from sklearn.metrics import accuracy_score,recall_score,precision_score,f1_score\n",
        "#Base Line Model means use Logistic Regression(we predict yes/no values then \n",
        "#use classification algorithm)\n",
        "from sklearn.linear_model import LogisticRegression"
      ],
      "metadata": {
        "id": "fSZDOB1Dbfma"
      },
      "execution_count": null,
      "outputs": []
    },
    {
      "cell_type": "markdown",
      "source": [
        "## Logistic Regression"
      ],
      "metadata": {
        "id": "K6INYS_Ykifo"
      }
    },
    {
      "cell_type": "code",
      "source": [
        "lr = LogisticRegression()\n",
        "lr = create_model(lr)"
      ],
      "metadata": {
        "colab": {
          "base_uri": "https://localhost:8080/"
        },
        "id": "wHhEzqXEbjef",
        "outputId": "36bba724-b10c-4c89-cfe2-ecc870d9238b"
      },
      "execution_count": null,
      "outputs": [
        {
          "output_type": "stream",
          "name": "stdout",
          "text": [
            "              precision    recall  f1-score   support\n",
            "\n",
            "           0       0.82      0.75      0.78      1540\n",
            "           1       0.77      0.83      0.80      1540\n",
            "\n",
            "    accuracy                           0.79      3080\n",
            "   macro avg       0.79      0.79      0.79      3080\n",
            "weighted avg       0.79      0.79      0.79      3080\n",
            "\n",
            "Confusion Matrix : \n",
            "[[1154  386]\n",
            " [ 257 1283]]\n"
          ]
        }
      ]
    },
    {
      "cell_type": "code",
      "source": [
        "Y_pred=lr.predict(X_test)\n",
        "print(\"Accuracy of our model is:\",accuracy_score(Y_test,Y_pred))\n",
        "print(\"Recall value of our model is:\", recall_score(Y_test,Y_pred))"
      ],
      "metadata": {
        "colab": {
          "base_uri": "https://localhost:8080/"
        },
        "id": "1cXxqHiuBGIu",
        "outputId": "2d12cdab-88ee-4a54-fe6f-bbbedcab0f39"
      },
      "execution_count": null,
      "outputs": [
        {
          "output_type": "stream",
          "name": "stdout",
          "text": [
            "Accuracy of our model is: 0.7912337662337663\n",
            "Recall value of our model is: 0.8331168831168831\n"
          ]
        }
      ]
    },
    {
      "cell_type": "markdown",
      "source": [
        "## Decision Tree"
      ],
      "metadata": {
        "id": "gH9GTFUDkwLQ"
      }
    },
    {
      "cell_type": "code",
      "source": [
        "from sklearn.tree import DecisionTreeClassifier\n",
        "dtc = DecisionTreeClassifier()"
      ],
      "metadata": {
        "id": "EFeIVM5zcF9L"
      },
      "execution_count": null,
      "outputs": []
    },
    {
      "cell_type": "code",
      "source": [
        "dtc1 = DecisionTreeClassifier(max_depth=6, min_samples_leaf = 30, max_leaf_nodes = 60) # max_depth cannot be more than 8\n",
        "dtc1 = create_model(dtc1) # by default uses : gini index"
      ],
      "metadata": {
        "colab": {
          "base_uri": "https://localhost:8080/"
        },
        "id": "8FFTFOj-o4Si",
        "outputId": "ae0a3e42-c54b-4e5b-e6f1-3b167aaf2ede"
      },
      "execution_count": null,
      "outputs": [
        {
          "output_type": "stream",
          "name": "stdout",
          "text": [
            "              precision    recall  f1-score   support\n",
            "\n",
            "           0       0.82      0.76      0.79      1540\n",
            "           1       0.78      0.83      0.80      1540\n",
            "\n",
            "    accuracy                           0.80      3080\n",
            "   macro avg       0.80      0.80      0.80      3080\n",
            "weighted avg       0.80      0.80      0.80      3080\n",
            "\n",
            "Confusion Matrix : \n",
            "[[1176  364]\n",
            " [ 261 1279]]\n"
          ]
        }
      ]
    },
    {
      "cell_type": "code",
      "source": [
        "from sklearn import tree\n",
        "features = X.columns\n",
        "fig = plt.figure(figsize = (20,20))\n",
        "_= tree.plot_tree(dtc1, feature_names= features, filled = True)"
      ],
      "metadata": {
        "colab": {
          "base_uri": "https://localhost:8080/",
          "height": 1000
        },
        "id": "-il0Od7SBOIS",
        "outputId": "9aff5406-f31e-4249-c818-875f79c4e18a"
      },
      "execution_count": null,
      "outputs": [
        {
          "output_type": "display_data",
          "data": {
            "image/png": "[encoded data removed]",
            "text/plain": [
              "<Figure size 1440x1440 with 1 Axes>"
            ]
          },
          "metadata": {}
        }
      ]
    },
    {
      "cell_type": "code",
      "source": [
        "dtc2 = DecisionTreeClassifier(criterion='entropy', min_samples_leaf = 50, max_leaf_nodes = 45, max_features = 15)\n",
        "dtc2 = create_model(dtc2)"
      ],
      "metadata": {
        "id": "B4xaQKu9dBmo",
        "colab": {
          "base_uri": "https://localhost:8080/"
        },
        "outputId": "7edc0041-85e8-4cbd-9d17-e51d00d8fdb4"
      },
      "execution_count": null,
      "outputs": [
        {
          "output_type": "stream",
          "name": "stdout",
          "text": [
            "              precision    recall  f1-score   support\n",
            "\n",
            "           0       0.82      0.73      0.77      1540\n",
            "           1       0.76      0.84      0.80      1540\n",
            "\n",
            "    accuracy                           0.79      3080\n",
            "   macro avg       0.79      0.79      0.78      3080\n",
            "weighted avg       0.79      0.79      0.78      3080\n",
            "\n",
            "Confusion Matrix : \n",
            "[[1130  410]\n",
            " [ 251 1289]]\n"
          ]
        }
      ]
    },
    {
      "cell_type": "code",
      "source": [
        "x = dtc2.feature_importances_\n",
        "dic = {'Feature importance':x, 'Column':X.columns}\n",
        "df2 = pd.DataFrame(dic)\n",
        "print(df2)"
      ],
      "metadata": {
        "colab": {
          "base_uri": "https://localhost:8080/"
        },
        "id": "FG0HHHa5r1yd",
        "outputId": "8249f14e-0f9d-4e8b-e29a-aa27da0c5fb6"
      },
      "execution_count": null,
      "outputs": [
        {
          "output_type": "stream",
          "name": "stdout",
          "text": [
            "    Feature importance            Column\n",
            "0             0.008218     SeniorCitizen\n",
            "1             0.143918            tenure\n",
            "2             0.075272    MonthlyCharges\n",
            "3             0.064937      TotalCharges\n",
            "4             0.003676            gender\n",
            "5             0.003057           Partner\n",
            "6             0.000000        Dependents\n",
            "7             0.000000      PhoneService\n",
            "8             0.005912     MultipleLines\n",
            "9             0.040248   InternetService\n",
            "10            0.058675    OnlineSecurity\n",
            "11            0.000000      OnlineBackup\n",
            "12            0.008581  DeviceProtection\n",
            "13            0.000000       TechSupport\n",
            "14            0.008722       StreamingTV\n",
            "15            0.006763   StreamingMovies\n",
            "16            0.556405          Contract\n",
            "17            0.009300  PaperlessBilling\n",
            "18            0.006316     PaymentMethod\n"
          ]
        }
      ]
    },
    {
      "cell_type": "code",
      "source": [
        "tmp = pd.DataFrame({'Feature': X.columns, 'Feature importance': dtc2.feature_importances_})\n",
        "tmp = tmp.sort_values(by='Feature importance',ascending=False)\n",
        "plt.figure(figsize = (7,4))\n",
        "plt.title('Features importance',fontsize=14)\n",
        "s = sns.barplot(x='Feature',y='Feature importance',data=tmp)\n",
        "s.set_xticklabels(s.get_xticklabels(),rotation=90)\n",
        "plt.show()   "
      ],
      "metadata": {
        "colab": {
          "base_uri": "https://localhost:8080/",
          "height": 388
        },
        "id": "8oOKpSfNBXUr",
        "outputId": "f2201068-f13c-4e3c-992e-c94f2f43bf61"
      },
      "execution_count": null,
      "outputs": [
        {
          "output_type": "display_data",
          "data": {
            "image/png": "[encoded data removed]",
            "text/plain": [
              "<Figure size 504x288 with 1 Axes>"
            ]
          },
          "metadata": {}
        }
      ]
    },
    {
      "cell_type": "code",
      "source": [
        "X_train.shape"
      ],
      "metadata": {
        "colab": {
          "base_uri": "https://localhost:8080/"
        },
        "id": "i3c9dQJnuACI",
        "outputId": "ea7d42ce-5496-4f0f-8217-57706b58e8d1"
      },
      "execution_count": null,
      "outputs": [
        {
          "output_type": "execute_result",
          "data": {
            "text/plain": [
              "(7268, 19)"
            ]
          },
          "metadata": {},
          "execution_count": 41
        }
      ]
    },
    {
      "cell_type": "markdown",
      "source": [
        "## Random Forest"
      ],
      "metadata": {
        "id": "wj0C26RUlNkb"
      }
    },
    {
      "cell_type": "code",
      "source": [
        "# Random forest tree\n",
        "# call random forest tree from package\n",
        "from sklearn.ensemble import RandomForestClassifier\n",
        "# call object of RandomForestClassifier\n",
        "rfc = RandomForestClassifier(n_estimators = 10, max_features = 14, random_state = 1, max_depth= 6, min_samples_leaf= 34)\n",
        "# n_estimators = 10 decision trees \n",
        "rfc = create_model(rfc) "
      ],
      "metadata": {
        "colab": {
          "base_uri": "https://localhost:8080/"
        },
        "id": "KO96pkUWumOg",
        "outputId": "5837d6aa-447d-4658-92d6-e0157912b100"
      },
      "execution_count": null,
      "outputs": [
        {
          "output_type": "stream",
          "name": "stdout",
          "text": [
            "              precision    recall  f1-score   support\n",
            "\n",
            "           0       0.85      0.74      0.79      1540\n",
            "           1       0.77      0.87      0.82      1540\n",
            "\n",
            "    accuracy                           0.81      3080\n",
            "   macro avg       0.81      0.81      0.81      3080\n",
            "weighted avg       0.81      0.81      0.81      3080\n",
            "\n",
            "Confusion Matrix : \n",
            "[[1145  395]\n",
            " [ 196 1344]]\n"
          ]
        }
      ]
    },
    {
      "cell_type": "code",
      "source": [
        "tmp = pd.DataFrame({'Feature': X.columns, 'Feature importance': rfc.feature_importances_})\n",
        "tmp = tmp.sort_values(by='Feature importance',ascending=False)\n",
        "plt.figure(figsize = (7,4))\n",
        "plt.title('Features importance',fontsize=14)\n",
        "s = sns.barplot(x='Feature',y='Feature importance',data=tmp)\n",
        "s.set_xticklabels(s.get_xticklabels(), rotation=90)\n",
        "plt.show()   "
      ],
      "metadata": {
        "colab": {
          "base_uri": "https://localhost:8080/",
          "height": 388
        },
        "id": "_ZTYcyGDVrzQ",
        "outputId": "ae042b58-af29-4b0e-f571-5a4a1b0aa03f"
      },
      "execution_count": null,
      "outputs": [
        {
          "output_type": "display_data",
          "data": {
            "image/png": "[encoded data removed]",
            "text/plain": [
              "<Figure size 504x288 with 1 Axes>"
            ]
          },
          "metadata": {}
        }
      ]
    },
    {
      "cell_type": "markdown",
      "source": [
        "## Stacking"
      ],
      "metadata": {
        "id": "sp12MNpAlqHe"
      }
    },
    {
      "cell_type": "code",
      "source": [
        "# !pip install mlxtend\n",
        "model_list = [lr, rfc, dtc2]\n",
        "import six\n",
        "import sys\n",
        "sys.modules['sklearn.externals.six'] = six\n",
        "from mlxtend.classifier import StackingClassifier\n",
        "sc = StackingClassifier(classifiers = model_list, meta_classifier = LogisticRegression())"
      ],
      "metadata": {
        "id": "AfTA1OB9yMWk"
      },
      "execution_count": null,
      "outputs": []
    },
    {
      "cell_type": "code",
      "source": [
        "sc = StackingClassifier(classifiers = model_list, meta_classifier = LogisticRegression())\n",
        "sc = create_model(sc)"
      ],
      "metadata": {
        "colab": {
          "base_uri": "https://localhost:8080/"
        },
        "id": "TqF8jSkBy1zS",
        "outputId": "32aa685b-c5a0-45ea-d6f4-42b041728d66"
      },
      "execution_count": null,
      "outputs": [
        {
          "output_type": "stream",
          "name": "stdout",
          "text": [
            "              precision    recall  f1-score   support\n",
            "\n",
            "           0       0.85      0.75      0.80      1540\n",
            "           1       0.78      0.87      0.82      1540\n",
            "\n",
            "    accuracy                           0.81      3080\n",
            "   macro avg       0.81      0.81      0.81      3080\n",
            "weighted avg       0.81      0.81      0.81      3080\n",
            "\n",
            "Confusion Matrix : \n",
            "[[1156  384]\n",
            " [ 206 1334]]\n"
          ]
        }
      ]
    },
    {
      "cell_type": "code",
      "source": [
        "Y_pred=sc.predict(X_test)\n",
        "print(\"Accuracy of our stacking model is:\",accuracy_score(Y_test,Y_pred))\n",
        "print(\"Recall value of our model is:\", recall_score(Y_test,Y_pred))"
      ],
      "metadata": {
        "colab": {
          "base_uri": "https://localhost:8080/"
        },
        "id": "wFQqr2QclmYy",
        "outputId": "e1829583-4650-4a94-dc69-328a835252de"
      },
      "execution_count": null,
      "outputs": [
        {
          "output_type": "stream",
          "name": "stdout",
          "text": [
            "Accuracy of our stacking model is: 0.8084415584415584\n",
            "Recall value of our model is: 0.8662337662337662\n"
          ]
        }
      ]
    },
    {
      "cell_type": "markdown",
      "source": [
        "## Boosting Techniques"
      ],
      "metadata": {
        "id": "RlCr0fgLmF5k"
      }
    },
    {
      "cell_type": "code",
      "source": [
        "#1. ADA Boost\n",
        "from sklearn.ensemble import AdaBoostClassifier\n",
        "#Create the object of AdaBoostClassifier class and passing the no. of parameter\n",
        "#in this class\n",
        "ada=AdaBoostClassifier(n_estimators= 35) # n_estimators can be <=100\n",
        "ada = create_model(ada)\n",
        "\n",
        "Y_pred=ada.predict(X_test)\n",
        "print(\"\\nAccuracy of our AdaBoost model is:\",accuracy_score(Y_test,Y_pred))\n",
        "print(\"Recall value of our model is:\", recall_score(Y_test,Y_pred))"
      ],
      "metadata": {
        "id": "h-Of0swK0Bmx",
        "colab": {
          "base_uri": "https://localhost:8080/"
        },
        "outputId": "68c07501-e1cb-476c-8511-5cc815909409"
      },
      "execution_count": null,
      "outputs": [
        {
          "output_type": "stream",
          "name": "stdout",
          "text": [
            "              precision    recall  f1-score   support\n",
            "\n",
            "           0       0.86      0.74      0.80      1540\n",
            "           1       0.77      0.88      0.82      1540\n",
            "\n",
            "    accuracy                           0.81      3080\n",
            "   macro avg       0.82      0.81      0.81      3080\n",
            "weighted avg       0.82      0.81      0.81      3080\n",
            "\n",
            "Confusion Matrix : \n",
            "[[1146  394]\n",
            " [ 192 1348]]\n",
            "\n",
            "Accuracy of our AdaBoost model is: 0.8097402597402598\n",
            "Recall value of our model is: 0.8753246753246753\n"
          ]
        }
      ]
    },
    {
      "cell_type": "code",
      "source": [
        "# call GradientBoostingClassifier class from following package\n",
        "from sklearn.ensemble import GradientBoostingClassifier\n",
        "\n",
        "gbc = GradientBoostingClassifier(n_estimators = 35) # not>100\n",
        "gbc = create_model(gbc)"
      ],
      "metadata": {
        "id": "yE7YNHkh1EZ_",
        "colab": {
          "base_uri": "https://localhost:8080/"
        },
        "outputId": "7e3e9909-e937-425e-8881-be4aaaa17d44"
      },
      "execution_count": null,
      "outputs": [
        {
          "output_type": "stream",
          "name": "stdout",
          "text": [
            "              precision    recall  f1-score   support\n",
            "\n",
            "           0       0.87      0.74      0.80      1540\n",
            "           1       0.78      0.89      0.83      1540\n",
            "\n",
            "    accuracy                           0.82      3080\n",
            "   macro avg       0.82      0.82      0.82      3080\n",
            "weighted avg       0.82      0.82      0.82      3080\n",
            "\n",
            "Confusion Matrix : \n",
            "[[1147  393]\n",
            " [ 173 1367]]\n"
          ]
        }
      ]
    },
    {
      "cell_type": "code",
      "source": [
        "# ! pip install xgboost"
      ],
      "metadata": {
        "id": "lCH6Ke-F39oa"
      },
      "execution_count": null,
      "outputs": []
    },
    {
      "cell_type": "code",
      "source": [
        "from xgboost import XGBClassifier\n",
        "xgc = XGBClassifier(n_estimators = 50, reg_alpha = 4)\n",
        "xgc = create_model(xgc)\n",
        "\n",
        "Y_pred=xgc.predict(X_test)\n",
        "print(\"\\nAccuracy of our xgboost model is:\",accuracy_score(Y_test,Y_pred))\n",
        "print(\"Recall value of our model is:\", recall_score(Y_test,Y_pred))"
      ],
      "metadata": {
        "colab": {
          "base_uri": "https://localhost:8080/"
        },
        "id": "VILqtCpv4VKe",
        "outputId": "371616c6-8621-4070-cc30-8e069a1b886c"
      },
      "execution_count": null,
      "outputs": [
        {
          "output_type": "stream",
          "name": "stdout",
          "text": [
            "              precision    recall  f1-score   support\n",
            "\n",
            "           0       0.86      0.74      0.80      1540\n",
            "           1       0.77      0.89      0.82      1540\n",
            "\n",
            "    accuracy                           0.81      3080\n",
            "   macro avg       0.82      0.81      0.81      3080\n",
            "weighted avg       0.82      0.81      0.81      3080\n",
            "\n",
            "Confusion Matrix : \n",
            "[[1133  407]\n",
            " [ 177 1363]]\n",
            "\n",
            "Accuracy of our xgboost model is: 0.8103896103896104\n",
            "Recall value of our model is: 0.8850649350649351\n"
          ]
        }
      ]
    },
    {
      "cell_type": "markdown",
      "source": [
        "## Naive Bayes"
      ],
      "metadata": {
        "id": "3gvKWz_amRco"
      }
    },
    {
      "cell_type": "code",
      "source": [
        "# Implement Naive Bayes algorithm\n",
        "from sklearn.naive_bayes import GaussianNB\n",
        "gnb = GaussianNB()\n",
        "gnb = create_model(gnb)"
      ],
      "metadata": {
        "colab": {
          "base_uri": "https://localhost:8080/"
        },
        "id": "-vtBDBh74eBK",
        "outputId": "cae3e61d-7713-4a05-8443-85bfab46fc37"
      },
      "execution_count": null,
      "outputs": [
        {
          "output_type": "stream",
          "name": "stdout",
          "text": [
            "              precision    recall  f1-score   support\n",
            "\n",
            "           0       0.83      0.73      0.78      1540\n",
            "           1       0.76      0.85      0.81      1540\n",
            "\n",
            "    accuracy                           0.79      3080\n",
            "   macro avg       0.80      0.79      0.79      3080\n",
            "weighted avg       0.80      0.79      0.79      3080\n",
            "\n",
            "Confusion Matrix : \n",
            "[[1131  409]\n",
            " [ 225 1315]]\n"
          ]
        }
      ]
    },
    {
      "cell_type": "code",
      "source": [
        "Y_pred=gnb.predict(X_test)\n",
        "print(\"Accuracy of our Naive Bayes model is:\",accuracy_score(Y_test,Y_pred))\n",
        "print(\"Recall value of our model is:\", recall_score(Y_test,Y_pred))"
      ],
      "metadata": {
        "colab": {
          "base_uri": "https://localhost:8080/"
        },
        "id": "y-1gq0RQwRy0",
        "outputId": "9cd9099e-926a-4724-8fb9-4fe6c8bde79b"
      },
      "execution_count": null,
      "outputs": [
        {
          "output_type": "stream",
          "name": "stdout",
          "text": [
            "Accuracy of our Naive Bayes model is: 0.7941558441558442\n",
            "Recall value of our model is: 0.8538961038961039\n"
          ]
        }
      ]
    },
    {
      "cell_type": "markdown",
      "source": [
        "# SVM"
      ],
      "metadata": {
        "id": "QdomXDhDmU5s"
      }
    },
    {
      "cell_type": "code",
      "source": [
        "from sklearn.svm import LinearSVC\n",
        "# Support Vector Classifier : SVC\n",
        "# create the object of LinearSVC class\n",
        "svc = LinearSVC(random_state = 1)\n",
        "svm = create_model(svc)"
      ],
      "metadata": {
        "colab": {
          "base_uri": "https://localhost:8080/"
        },
        "id": "RzE0zljy68Pu",
        "outputId": "bfeab2e8-c25f-4a36-9fad-158b53746027"
      },
      "execution_count": null,
      "outputs": [
        {
          "output_type": "stream",
          "name": "stdout",
          "text": [
            "              precision    recall  f1-score   support\n",
            "\n",
            "           0       0.82      0.75      0.78      1540\n",
            "           1       0.77      0.84      0.80      1540\n",
            "\n",
            "    accuracy                           0.79      3080\n",
            "   macro avg       0.80      0.79      0.79      3080\n",
            "weighted avg       0.80      0.79      0.79      3080\n",
            "\n",
            "Confusion Matrix : \n",
            "[[1152  388]\n",
            " [ 247 1293]]\n"
          ]
        }
      ]
    },
    {
      "cell_type": "code",
      "source": [
        "# if data is not linearly separable\n",
        "from sklearn.svm import SVC\n",
        "poly_svc = SVC(random_state=1, kernel='poly')\n",
        "poly_svc = create_model(poly_svc)"
      ],
      "metadata": {
        "colab": {
          "base_uri": "https://localhost:8080/"
        },
        "id": "nzz6WJn27YJ0",
        "outputId": "8589a753-afd2-4d3b-80ed-7f01d2f099eb"
      },
      "execution_count": null,
      "outputs": [
        {
          "output_type": "stream",
          "name": "stdout",
          "text": [
            "              precision    recall  f1-score   support\n",
            "\n",
            "           0       0.79      0.76      0.78      1540\n",
            "           1       0.77      0.80      0.78      1540\n",
            "\n",
            "    accuracy                           0.78      3080\n",
            "   macro avg       0.78      0.78      0.78      3080\n",
            "weighted avg       0.78      0.78      0.78      3080\n",
            "\n",
            "Confusion Matrix : \n",
            "[[1175  365]\n",
            " [ 311 1229]]\n"
          ]
        }
      ]
    },
    {
      "cell_type": "code",
      "source": [
        "# radial basis function\n",
        "r_svc = SVC(random_state = 1, kernel='rbf')\n",
        "r_svc = create_model(r_svc)"
      ],
      "metadata": {
        "colab": {
          "base_uri": "https://localhost:8080/"
        },
        "id": "6p3a-A6u7vqi",
        "outputId": "74635c82-58c0-429f-a046-34e91a5afe17"
      },
      "execution_count": null,
      "outputs": [
        {
          "output_type": "stream",
          "name": "stdout",
          "text": [
            "              precision    recall  f1-score   support\n",
            "\n",
            "           0       0.79      0.76      0.78      1540\n",
            "           1       0.77      0.80      0.79      1540\n",
            "\n",
            "    accuracy                           0.78      3080\n",
            "   macro avg       0.78      0.78      0.78      3080\n",
            "weighted avg       0.78      0.78      0.78      3080\n",
            "\n",
            "Confusion Matrix : \n",
            "[[1173  367]\n",
            " [ 304 1236]]\n"
          ]
        }
      ]
    },
    {
      "cell_type": "markdown",
      "source": [
        "## KNN (K-Nearest Neighbors)"
      ],
      "metadata": {
        "id": "VZSOQRLemaz5"
      }
    },
    {
      "cell_type": "code",
      "source": [
        "from sklearn.neighbors import KNeighborsClassifier\n",
        "KNC = KNeighborsClassifier(n_neighbors=13, metric='minkowski', p = 2)\n",
        "KNC = create_model(KNC)"
      ],
      "metadata": {
        "colab": {
          "base_uri": "https://localhost:8080/"
        },
        "id": "xU5ePqjZ73Y0",
        "outputId": "d692e03b-83fc-4b26-a279-252883aec237"
      },
      "execution_count": null,
      "outputs": [
        {
          "output_type": "stream",
          "name": "stdout",
          "text": [
            "              precision    recall  f1-score   support\n",
            "\n",
            "           0       0.82      0.68      0.74      1540\n",
            "           1       0.73      0.86      0.79      1540\n",
            "\n",
            "    accuracy                           0.77      3080\n",
            "   macro avg       0.78      0.77      0.77      3080\n",
            "weighted avg       0.78      0.77      0.77      3080\n",
            "\n",
            "Confusion Matrix : \n",
            "[[1045  495]\n",
            " [ 223 1317]]\n"
          ]
        }
      ]
    },
    {
      "cell_type": "markdown",
      "source": [
        "# Conclusion\n",
        "In this machine learning project, a binary classifier was implemented using various classification algorithms to predict potential churn outcomes. Through this project, several techniques were applied to address feature selection,remove outliers/missing values and treat class imbalance issue.\n",
        "\n",
        "All categorical type feature columns were transforming into numerical data. As most columns had discrete values. The entire dataset was then standardized to prepare it for classification.\n",
        "\n",
        "## Results\n",
        "\n",
        "Looking at model results, the best accuracy on the test set was achieved by the boosting technique algorithms. It is an ensemble meta-algorithm that converts weak learners to strong ones. Important features were showcased while using Decision tree and Random Forest.\n",
        "\n",
        "**Accuracy of our AdaBoost model is: 0.8097402597402598**\n",
        "\n",
        "**Recall value of Adaboost model is: 0.8753246753246753,\n",
        "  F1: 0.82**\n",
        "\n",
        "**Accuracy of our XGBoost model is: 0.8103896103896104**\n",
        "\n",
        "**Recall value of XGBoost model is: 0.8850649350649351,\n",
        "  F1: 0.83**\n",
        "\n",
        "Stacking and Random forest algorithms also performed very well after some hyper-parameter tuning. \n",
        "\n",
        "Focus was on getting optimal Recall score (reducing False-negatives) as machine predicting not churn, but actual value being churn would be a major concern for the company and would lead to a loss of customers.\n",
        "It also makes sense to compare F1 scores to get the model with the best score on jointly precision and recall."
      ],
      "metadata": {
        "id": "xfDaMFfi6bnn"
      }
    }
  ]
}
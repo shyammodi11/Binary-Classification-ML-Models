{
  "cells": [
    {
      "cell_type": "markdown",
      "metadata": {
        "id": "view-in-github",
        "colab_type": "text"
      },
      "source": [
        "<a href=\"https://colab.research.google.com/github/shyammodi11/Binary-Classification-ML-Models/blob/main/CREDIT_CARD.ipynb\" target=\"_parent\"><img src=\"https://colab.research.google.com/assets/colab-badge.svg\" alt=\"Open In Colab\"/></a>"
      ]
    },
    {
      "cell_type": "markdown",
      "id": "99119e0f",
      "metadata": {
        "id": "99119e0f"
      },
      "source": [
        "# Problem Statement: \n",
        "For financial banks around the world, identifying credit card fraud is crucial. Banks have to spot potential fraud so that their costumers don't pay for goods they haven't purchased. This is important so that the customer doesn't lose money and the bank does not lose its customers.\n",
        "\n",
        "The credit limit in credit cards helps in making purchases even when we don't have the amount at that time. But these features can be misused by cyber attackers to commit fraudulent transactions. Hence, the ultimate goal is to tackle this situation by building generalized classification models which tracks the pattern of all the transactions to classify and distinguish fraud transactions from the normal ones.\n",
        "### This is a binary classification problem"
      ]
    },
    {
      "cell_type": "code",
      "execution_count": null,
      "id": "f8966074",
      "metadata": {
        "id": "f8966074"
      },
      "outputs": [],
      "source": [
        "# importing important libraries\n",
        "import numpy as np\n",
        "import pandas as pd\n",
        "import matplotlib.pyplot as plt\n",
        "import seaborn as sns\n",
        "import warnings\n",
        "warnings.filterwarnings('ignore')"
      ]
    },
    {
      "cell_type": "markdown",
      "id": "b846b282",
      "metadata": {
        "id": "b846b282"
      },
      "source": [
        "## Loading the dataset \n",
        "The dataset consists of 31 feature columns. Due to security issues, 28 of the features are the result of the PCA transformation. 'Time' and 'Amount are the only columns that were not modified with PCA. The output variable is named 'Class'."
      ]
    },
    {
      "cell_type": "code",
      "execution_count": null,
      "id": "9c6658f8",
      "metadata": {
        "scrolled": true,
        "id": "9c6658f8",
        "outputId": "2e79087b-766c-4ec1-e28c-1412492e8e0e"
      },
      "outputs": [
        {
          "data": {
            "text/html": [
              "<div>\n",
              "<style scoped>\n",
              "    .dataframe tbody tr th:only-of-type {\n",
              "        vertical-align: middle;\n",
              "    }\n",
              "\n",
              "    .dataframe tbody tr th {\n",
              "        vertical-align: top;\n",
              "    }\n",
              "\n",
              "    .dataframe thead th {\n",
              "        text-align: right;\n",
              "    }\n",
              "</style>\n",
              "<table border=\"1\" class=\"dataframe\">\n",
              "  <thead>\n",
              "    <tr style=\"text-align: right;\">\n",
              "      <th></th>\n",
              "      <th>Time</th>\n",
              "      <th>V1</th>\n",
              "      <th>V2</th>\n",
              "      <th>V3</th>\n",
              "      <th>V4</th>\n",
              "      <th>V5</th>\n",
              "      <th>V6</th>\n",
              "      <th>V7</th>\n",
              "      <th>V8</th>\n",
              "      <th>V9</th>\n",
              "      <th>...</th>\n",
              "      <th>V21</th>\n",
              "      <th>V22</th>\n",
              "      <th>V23</th>\n",
              "      <th>V24</th>\n",
              "      <th>V25</th>\n",
              "      <th>V26</th>\n",
              "      <th>V27</th>\n",
              "      <th>V28</th>\n",
              "      <th>Amount</th>\n",
              "      <th>Class</th>\n",
              "    </tr>\n",
              "  </thead>\n",
              "  <tbody>\n",
              "    <tr>\n",
              "      <th>0</th>\n",
              "      <td>0.0</td>\n",
              "      <td>-1.359807</td>\n",
              "      <td>-0.072781</td>\n",
              "      <td>2.536347</td>\n",
              "      <td>1.378155</td>\n",
              "      <td>-0.338321</td>\n",
              "      <td>0.462388</td>\n",
              "      <td>0.239599</td>\n",
              "      <td>0.098698</td>\n",
              "      <td>0.363787</td>\n",
              "      <td>...</td>\n",
              "      <td>-0.018307</td>\n",
              "      <td>0.277838</td>\n",
              "      <td>-0.110474</td>\n",
              "      <td>0.066928</td>\n",
              "      <td>0.128539</td>\n",
              "      <td>-0.189115</td>\n",
              "      <td>0.133558</td>\n",
              "      <td>-0.021053</td>\n",
              "      <td>149.62</td>\n",
              "      <td>0</td>\n",
              "    </tr>\n",
              "    <tr>\n",
              "      <th>1</th>\n",
              "      <td>0.0</td>\n",
              "      <td>1.191857</td>\n",
              "      <td>0.266151</td>\n",
              "      <td>0.166480</td>\n",
              "      <td>0.448154</td>\n",
              "      <td>0.060018</td>\n",
              "      <td>-0.082361</td>\n",
              "      <td>-0.078803</td>\n",
              "      <td>0.085102</td>\n",
              "      <td>-0.255425</td>\n",
              "      <td>...</td>\n",
              "      <td>-0.225775</td>\n",
              "      <td>-0.638672</td>\n",
              "      <td>0.101288</td>\n",
              "      <td>-0.339846</td>\n",
              "      <td>0.167170</td>\n",
              "      <td>0.125895</td>\n",
              "      <td>-0.008983</td>\n",
              "      <td>0.014724</td>\n",
              "      <td>2.69</td>\n",
              "      <td>0</td>\n",
              "    </tr>\n",
              "    <tr>\n",
              "      <th>2</th>\n",
              "      <td>1.0</td>\n",
              "      <td>-1.358354</td>\n",
              "      <td>-1.340163</td>\n",
              "      <td>1.773209</td>\n",
              "      <td>0.379780</td>\n",
              "      <td>-0.503198</td>\n",
              "      <td>1.800499</td>\n",
              "      <td>0.791461</td>\n",
              "      <td>0.247676</td>\n",
              "      <td>-1.514654</td>\n",
              "      <td>...</td>\n",
              "      <td>0.247998</td>\n",
              "      <td>0.771679</td>\n",
              "      <td>0.909412</td>\n",
              "      <td>-0.689281</td>\n",
              "      <td>-0.327642</td>\n",
              "      <td>-0.139097</td>\n",
              "      <td>-0.055353</td>\n",
              "      <td>-0.059752</td>\n",
              "      <td>378.66</td>\n",
              "      <td>0</td>\n",
              "    </tr>\n",
              "    <tr>\n",
              "      <th>3</th>\n",
              "      <td>1.0</td>\n",
              "      <td>-0.966272</td>\n",
              "      <td>-0.185226</td>\n",
              "      <td>1.792993</td>\n",
              "      <td>-0.863291</td>\n",
              "      <td>-0.010309</td>\n",
              "      <td>1.247203</td>\n",
              "      <td>0.237609</td>\n",
              "      <td>0.377436</td>\n",
              "      <td>-1.387024</td>\n",
              "      <td>...</td>\n",
              "      <td>-0.108300</td>\n",
              "      <td>0.005274</td>\n",
              "      <td>-0.190321</td>\n",
              "      <td>-1.175575</td>\n",
              "      <td>0.647376</td>\n",
              "      <td>-0.221929</td>\n",
              "      <td>0.062723</td>\n",
              "      <td>0.061458</td>\n",
              "      <td>123.50</td>\n",
              "      <td>0</td>\n",
              "    </tr>\n",
              "    <tr>\n",
              "      <th>4</th>\n",
              "      <td>2.0</td>\n",
              "      <td>-1.158233</td>\n",
              "      <td>0.877737</td>\n",
              "      <td>1.548718</td>\n",
              "      <td>0.403034</td>\n",
              "      <td>-0.407193</td>\n",
              "      <td>0.095921</td>\n",
              "      <td>0.592941</td>\n",
              "      <td>-0.270533</td>\n",
              "      <td>0.817739</td>\n",
              "      <td>...</td>\n",
              "      <td>-0.009431</td>\n",
              "      <td>0.798278</td>\n",
              "      <td>-0.137458</td>\n",
              "      <td>0.141267</td>\n",
              "      <td>-0.206010</td>\n",
              "      <td>0.502292</td>\n",
              "      <td>0.219422</td>\n",
              "      <td>0.215153</td>\n",
              "      <td>69.99</td>\n",
              "      <td>0</td>\n",
              "    </tr>\n",
              "  </tbody>\n",
              "</table>\n",
              "<p>5 rows × 31 columns</p>\n",
              "</div>"
            ],
            "text/plain": [
              "   Time        V1        V2        V3        V4        V5        V6        V7  \\\n",
              "0   0.0 -1.359807 -0.072781  2.536347  1.378155 -0.338321  0.462388  0.239599   \n",
              "1   0.0  1.191857  0.266151  0.166480  0.448154  0.060018 -0.082361 -0.078803   \n",
              "2   1.0 -1.358354 -1.340163  1.773209  0.379780 -0.503198  1.800499  0.791461   \n",
              "3   1.0 -0.966272 -0.185226  1.792993 -0.863291 -0.010309  1.247203  0.237609   \n",
              "4   2.0 -1.158233  0.877737  1.548718  0.403034 -0.407193  0.095921  0.592941   \n",
              "\n",
              "         V8        V9  ...       V21       V22       V23       V24       V25  \\\n",
              "0  0.098698  0.363787  ... -0.018307  0.277838 -0.110474  0.066928  0.128539   \n",
              "1  0.085102 -0.255425  ... -0.225775 -0.638672  0.101288 -0.339846  0.167170   \n",
              "2  0.247676 -1.514654  ...  0.247998  0.771679  0.909412 -0.689281 -0.327642   \n",
              "3  0.377436 -1.387024  ... -0.108300  0.005274 -0.190321 -1.175575  0.647376   \n",
              "4 -0.270533  0.817739  ... -0.009431  0.798278 -0.137458  0.141267 -0.206010   \n",
              "\n",
              "        V26       V27       V28  Amount  Class  \n",
              "0 -0.189115  0.133558 -0.021053  149.62      0  \n",
              "1  0.125895 -0.008983  0.014724    2.69      0  \n",
              "2 -0.139097 -0.055353 -0.059752  378.66      0  \n",
              "3 -0.221929  0.062723  0.061458  123.50      0  \n",
              "4  0.502292  0.219422  0.215153   69.99      0  \n",
              "\n",
              "[5 rows x 31 columns]"
            ]
          },
          "execution_count": 2,
          "metadata": {},
          "output_type": "execute_result"
        }
      ],
      "source": [
        "df = pd.read_csv(\"creditcard.csv\")\n",
        "df.head()"
      ]
    },
    {
      "cell_type": "markdown",
      "id": "080cb9b0",
      "metadata": {
        "id": "080cb9b0"
      },
      "source": [
        "## Finding null/missing values"
      ]
    },
    {
      "cell_type": "code",
      "execution_count": null,
      "id": "ca3c8195",
      "metadata": {
        "id": "ca3c8195",
        "outputId": "2937ee6b-7980-4206-c4e7-7bc25411f54f"
      },
      "outputs": [
        {
          "data": {
            "text/plain": [
              "Time      0\n",
              "V1        0\n",
              "V2        0\n",
              "V3        0\n",
              "V4        0\n",
              "V5        0\n",
              "V6        0\n",
              "V7        0\n",
              "V8        0\n",
              "V9        0\n",
              "V10       0\n",
              "V11       0\n",
              "V12       0\n",
              "V13       0\n",
              "V14       0\n",
              "V15       0\n",
              "V16       0\n",
              "V17       0\n",
              "V18       0\n",
              "V19       0\n",
              "V20       0\n",
              "V21       0\n",
              "V22       0\n",
              "V23       0\n",
              "V24       0\n",
              "V25       0\n",
              "V26       0\n",
              "V27       0\n",
              "V28       0\n",
              "Amount    0\n",
              "Class     0\n",
              "dtype: int64"
            ]
          },
          "execution_count": 3,
          "metadata": {},
          "output_type": "execute_result"
        }
      ],
      "source": [
        "# checking null values: There are no null values in this dataset\n",
        "df.isnull().sum()"
      ]
    },
    {
      "cell_type": "code",
      "execution_count": null,
      "id": "e05bcfb8",
      "metadata": {
        "id": "e05bcfb8",
        "outputId": "9ddcf1ec-a4cd-4ba6-fd51-21e4331253c8"
      },
      "outputs": [
        {
          "name": "stdout",
          "output_type": "stream",
          "text": [
            "<class 'pandas.core.frame.DataFrame'>\n",
            "RangeIndex: 284807 entries, 0 to 284806\n",
            "Data columns (total 31 columns):\n",
            " #   Column  Non-Null Count   Dtype  \n",
            "---  ------  --------------   -----  \n",
            " 0   Time    284807 non-null  float64\n",
            " 1   V1      284807 non-null  float64\n",
            " 2   V2      284807 non-null  float64\n",
            " 3   V3      284807 non-null  float64\n",
            " 4   V4      284807 non-null  float64\n",
            " 5   V5      284807 non-null  float64\n",
            " 6   V6      284807 non-null  float64\n",
            " 7   V7      284807 non-null  float64\n",
            " 8   V8      284807 non-null  float64\n",
            " 9   V9      284807 non-null  float64\n",
            " 10  V10     284807 non-null  float64\n",
            " 11  V11     284807 non-null  float64\n",
            " 12  V12     284807 non-null  float64\n",
            " 13  V13     284807 non-null  float64\n",
            " 14  V14     284807 non-null  float64\n",
            " 15  V15     284807 non-null  float64\n",
            " 16  V16     284807 non-null  float64\n",
            " 17  V17     284807 non-null  float64\n",
            " 18  V18     284807 non-null  float64\n",
            " 19  V19     284807 non-null  float64\n",
            " 20  V20     284807 non-null  float64\n",
            " 21  V21     284807 non-null  float64\n",
            " 22  V22     284807 non-null  float64\n",
            " 23  V23     284807 non-null  float64\n",
            " 24  V24     284807 non-null  float64\n",
            " 25  V25     284807 non-null  float64\n",
            " 26  V26     284807 non-null  float64\n",
            " 27  V27     284807 non-null  float64\n",
            " 28  V28     284807 non-null  float64\n",
            " 29  Amount  284807 non-null  float64\n",
            " 30  Class   284807 non-null  int64  \n",
            "dtypes: float64(30), int64(1)\n",
            "memory usage: 67.4 MB\n"
          ]
        }
      ],
      "source": [
        "# Checkimg datatypes and consistency of the dataset\n",
        "df.info()"
      ]
    },
    {
      "cell_type": "code",
      "execution_count": null,
      "id": "49956ecd",
      "metadata": {
        "id": "49956ecd",
        "outputId": "dfb256de-90ec-4afc-b6f1-636009874946"
      },
      "outputs": [
        {
          "data": {
            "image/png": "[encoded data removed]",
            "text/plain": [
              "<Figure size 432x288 with 1 Axes>"
            ]
          },
          "metadata": {
            "needs_background": "light"
          },
          "output_type": "display_data"
        }
      ],
      "source": [
        "sns.boxplot(data = df, x = 'Class', y = 'Time')\n",
        "plt.title(\"Valid transactions Vs. Fraud transactions\")\n",
        "plt.show()"
      ]
    },
    {
      "cell_type": "code",
      "execution_count": null,
      "id": "f25d01d7",
      "metadata": {
        "id": "f25d01d7",
        "outputId": "58faab83-b2c6-44db-8cda-47ef156cf43c"
      },
      "outputs": [
        {
          "data": {
            "text/plain": [
              "(284807, 31)"
            ]
          },
          "execution_count": 7,
          "metadata": {},
          "output_type": "execute_result"
        }
      ],
      "source": [
        "df.shape"
      ]
    },
    {
      "cell_type": "markdown",
      "id": "61cdb7ea",
      "metadata": {
        "id": "61cdb7ea"
      },
      "source": [
        "## Visualizing distributions \n",
        "Understanding data with respect to time and frequency. \n",
        "However, the dataset is heavily imbalanced. Only 0.17% of transactions are fraudulent."
      ]
    },
    {
      "cell_type": "code",
      "execution_count": null,
      "id": "1abef756",
      "metadata": {
        "id": "1abef756",
        "outputId": "f778536a-c8ba-416e-a9e6-3e27d40fc744"
      },
      "outputs": [
        {
          "name": "stdout",
          "output_type": "stream",
          "text": [
            "Total percentage of fraud transactions: 0.1727485630620034\n"
          ]
        }
      ],
      "source": [
        "# Creating fraudulent dataframe\n",
        "data_fraud = df[df['Class'] == 1]\n",
        "# Creating non fraudulent dataframe\n",
        "data_non_fraud = df[df['Class'] == 0]\n",
        "print('Total percentage of fraud transactions:', data_fraud.shape[0]/df.shape[0]*100)"
      ]
    },
    {
      "cell_type": "code",
      "execution_count": null,
      "id": "cc0801f1",
      "metadata": {
        "id": "cc0801f1",
        "outputId": "5177d7a3-0d58-41e6-a1ba-85d98328cd7f"
      },
      "outputs": [
        {
          "data": {
            "image/png": "[encoded data removed]",
            "text/plain": [
              "<Figure size 576x360 with 1 Axes>"
            ]
          },
          "metadata": {
            "needs_background": "light"
          },
          "output_type": "display_data"
        },
        {
          "data": {
            "image/png": "[encoded data removed]",
            "text/plain": [
              "<Figure size 576x360 with 1 Axes>"
            ]
          },
          "metadata": {
            "needs_background": "light"
          },
          "output_type": "display_data"
        }
      ],
      "source": [
        "# Distribution plot\n",
        "plt.figure(figsize=(8,5))\n",
        "ax = sns.histplot(data_fraud['Time'],label='fraudulent', bins = 20)\n",
        "plt.legend()\n",
        "plt.show()\n",
        "plt.figure(figsize=(8,5))\n",
        "ax = sns.histplot(data_non_fraud['Time'],label='non fraudulent', bins = 20, color = 'green')\n",
        "ax.set(xlabel='Seconds elapsed between the transction and the first transction')\n",
        "plt.legend()\n",
        "plt.show()"
      ]
    },
    {
      "cell_type": "code",
      "execution_count": null,
      "id": "24e5575b",
      "metadata": {
        "id": "24e5575b",
        "outputId": "c95c61b7-51b4-4203-ca53-137f954dbcb9"
      },
      "outputs": [
        {
          "data": {
            "text/plain": [
              "0    284315\n",
              "1       492\n",
              "Name: Class, dtype: int64"
            ]
          },
          "execution_count": 10,
          "metadata": {},
          "output_type": "execute_result"
        }
      ],
      "source": [
        "df['Class'].value_counts()"
      ]
    },
    {
      "cell_type": "code",
      "execution_count": null,
      "id": "428a775e",
      "metadata": {
        "id": "428a775e",
        "outputId": "08cef128-a797-4072-8572-933c1f359077"
      },
      "outputs": [
        {
          "data": {
            "text/plain": [
              "count     492.000000\n",
              "mean      122.211321\n",
              "std       256.683288\n",
              "min         0.000000\n",
              "25%         1.000000\n",
              "50%         9.250000\n",
              "75%       105.890000\n",
              "max      2125.870000\n",
              "Name: Amount, dtype: float64"
            ]
          },
          "execution_count": 11,
          "metadata": {},
          "output_type": "execute_result"
        }
      ],
      "source": [
        "data_fraud.Amount.describe()"
      ]
    },
    {
      "cell_type": "code",
      "execution_count": null,
      "id": "656288ae",
      "metadata": {
        "id": "656288ae",
        "outputId": "63dd674e-6fb0-4624-a3dd-dd9ded0f98f3"
      },
      "outputs": [
        {
          "data": {
            "image/png": "[encoded data removed]",
            "text/plain": [
              "<Figure size 576x576 with 1 Axes>"
            ]
          },
          "metadata": {
            "needs_background": "light"
          },
          "output_type": "display_data"
        }
      ],
      "source": [
        "# Bar plot for the number of fraudulent vs non-fraudulent transcations\n",
        "# Class = 0 are normal, Class = 1 are fraudulent\n",
        "plt.figure(figsize=(8,8))\n",
        "sns.countplot(x='Class', data=df)\n",
        "plt.title('Number of fraudulent vs non-fraudulent transcations')\n",
        "plt.yticks(df['Class'].value_counts())\n",
        "plt.show()"
      ]
    },
    {
      "cell_type": "code",
      "execution_count": null,
      "id": "dd7dfa4f",
      "metadata": {
        "id": "dd7dfa4f",
        "outputId": "f9e08729-0cd4-4f28-f36c-d2ac8f60aa23"
      },
      "outputs": [
        {
          "data": {
            "image/png": "[encoded data removed]",
            "text/plain": [
              "<Figure size 1440x936 with 2 Axes>"
            ]
          },
          "metadata": {
            "needs_background": "light"
          },
          "output_type": "display_data"
        }
      ],
      "source": [
        "# Check correlation between input variables with the output variable\n",
        "corr = df.corr()\n",
        "fig, ax = plt.subplots(figsize=(20,13))\n",
        "sns.heatmap(corr, cmap='viridis', annot_kws={'size':20},linewidths= 0.05)\n",
        "ax.set_title(\"Old Correlation Matrix \\n (don't use for reference)\", fontsize=13)\n",
        "plt.show()"
      ]
    },
    {
      "cell_type": "markdown",
      "id": "066f4406",
      "metadata": {
        "id": "066f4406"
      },
      "source": [
        "## Train-Test Split\n",
        "Dividing data and sampling training/testing set to balance the output variable"
      ]
    },
    {
      "cell_type": "code",
      "execution_count": null,
      "id": "4e0828be",
      "metadata": {
        "id": "4e0828be"
      },
      "outputs": [],
      "source": [
        "X = df.drop('Class', axis = 1)\n",
        "Y = df['Class']"
      ]
    },
    {
      "cell_type": "code",
      "execution_count": null,
      "id": "fc2cd508",
      "metadata": {
        "id": "fc2cd508"
      },
      "outputs": [],
      "source": [
        "from sklearn.model_selection import train_test_split\n",
        "X_train, X_test, Y_train, Y_test = train_test_split(X,Y,test_size = 0.3, random_state = 1)"
      ]
    },
    {
      "cell_type": "code",
      "execution_count": null,
      "id": "1d1f09e6",
      "metadata": {
        "id": "1d1f09e6"
      },
      "outputs": [],
      "source": [
        "from imblearn.over_sampling import RandomOverSampler\n",
        "ros = RandomOverSampler()\n",
        "# fit_resample() inbuilt method of RandomOverSampler() class"
      ]
    },
    {
      "cell_type": "code",
      "execution_count": null,
      "id": "4e48c9c9",
      "metadata": {
        "id": "4e48c9c9",
        "outputId": "e6b62833-2a6a-4632-81ce-31065056490a"
      },
      "outputs": [
        {
          "data": {
            "text/plain": [
              "0    199007\n",
              "1    199007\n",
              "Name: Class, dtype: int64"
            ]
          },
          "execution_count": 17,
          "metadata": {},
          "output_type": "execute_result"
        }
      ],
      "source": [
        "X_train, Y_train = ros.fit_resample(X_train, Y_train)\n",
        "X_test, Y_test = ros.fit_resample(X_test, Y_test)\n",
        "pd.Series(Y_train).value_counts()"
      ]
    },
    {
      "cell_type": "code",
      "execution_count": null,
      "id": "020c2241",
      "metadata": {
        "scrolled": true,
        "id": "020c2241",
        "outputId": "db3413fd-5893-4781-d23b-b0544a6505cb"
      },
      "outputs": [
        {
          "data": {
            "text/plain": [
              "0    85308\n",
              "1    85308\n",
              "Name: Class, dtype: int64"
            ]
          },
          "execution_count": 18,
          "metadata": {},
          "output_type": "execute_result"
        }
      ],
      "source": [
        "# the output variable is now balanced\n",
        "pd.Series(Y_test).value_counts()"
      ]
    },
    {
      "cell_type": "markdown",
      "id": "3105b7b4",
      "metadata": {
        "id": "3105b7b4"
      },
      "source": [
        "## Model building and implementation\n",
        "Building a generalized function to implement our classification algorithms"
      ]
    },
    {
      "cell_type": "code",
      "execution_count": null,
      "id": "a8377f42",
      "metadata": {
        "id": "a8377f42"
      },
      "outputs": [],
      "source": [
        "def create_model(model):\n",
        "    model.fit(X_train,Y_train)#train the model\n",
        "    Y_pred=model.predict(X_test) #test\n",
        "    print('Classification report\\n')\n",
        "    print(classification_report(Y_test,Y_pred))\n",
        "    print(\"Confusion Matrix : \")\n",
        "    #Confusion matrix\n",
        "    print(confusion_matrix(Y_test,Y_pred))\n",
        "    return model"
      ]
    },
    {
      "cell_type": "code",
      "execution_count": null,
      "id": "82c5d34b",
      "metadata": {
        "id": "82c5d34b"
      },
      "outputs": [],
      "source": [
        "from sklearn.metrics import confusion_matrix\n",
        "from sklearn.metrics import plot_confusion_matrix\n",
        "from sklearn.metrics import accuracy_score,recall_score,precision_score,f1_score\n",
        "from sklearn.metrics import classification_report"
      ]
    },
    {
      "cell_type": "markdown",
      "id": "cd33859d",
      "metadata": {
        "id": "cd33859d"
      },
      "source": [
        "## Logistic Regression"
      ]
    },
    {
      "cell_type": "code",
      "execution_count": null,
      "id": "90861fe0",
      "metadata": {
        "id": "90861fe0",
        "outputId": "d52dd189-06fc-41e2-d422-c853e75d8d99"
      },
      "outputs": [
        {
          "name": "stdout",
          "output_type": "stream",
          "text": [
            "Classification report\n",
            "\n",
            "              precision    recall  f1-score   support\n",
            "\n",
            "           0       0.88      0.97      0.92     85308\n",
            "           1       0.97      0.87      0.91     85308\n",
            "\n",
            "    accuracy                           0.92    170616\n",
            "   macro avg       0.92      0.92      0.92    170616\n",
            "weighted avg       0.92      0.92      0.92    170616\n",
            "\n",
            "Confusion Matrix : \n",
            "[[82775  2533]\n",
            " [11365 73943]]\n"
          ]
        }
      ],
      "source": [
        "#Base Line Model means use Logistic Regression(we predict yes/no values then \n",
        "#use classification algorithm)\n",
        "from sklearn.linear_model import LogisticRegression\n",
        "lr = LogisticRegression()\n",
        "lr = create_model(lr)"
      ]
    },
    {
      "cell_type": "code",
      "execution_count": null,
      "id": "602033dd",
      "metadata": {
        "id": "602033dd",
        "outputId": "4dd3bd09-d6bc-478c-f2c0-2a4da905ab9f"
      },
      "outputs": [
        {
          "name": "stdout",
          "output_type": "stream",
          "text": [
            "Accuracy of our model is: 0.9185422234725934\n",
            "Recall value of our model is: 0.8667768556290149\n"
          ]
        }
      ],
      "source": [
        "Y_pred=lr.predict(X_test)\n",
        "print(\"Accuracy of our model is:\",accuracy_score(Y_test,Y_pred))\n",
        "print(\"Recall value of our model is:\", recall_score(Y_test,Y_pred))"
      ]
    },
    {
      "cell_type": "markdown",
      "id": "57003f97",
      "metadata": {
        "id": "57003f97"
      },
      "source": [
        "## Decision Tree"
      ]
    },
    {
      "cell_type": "code",
      "execution_count": null,
      "id": "7e5e1a04",
      "metadata": {
        "id": "7e5e1a04",
        "outputId": "dfe45c0c-f5b8-4a19-dceb-d54aa29a686a"
      },
      "outputs": [
        {
          "name": "stdout",
          "output_type": "stream",
          "text": [
            "Classification report\n",
            "\n",
            "              precision    recall  f1-score   support\n",
            "\n",
            "           0       0.85      0.99      0.92     85308\n",
            "           1       0.99      0.83      0.90     85308\n",
            "\n",
            "    accuracy                           0.91    170616\n",
            "   macro avg       0.92      0.91      0.91    170616\n",
            "weighted avg       0.92      0.91      0.91    170616\n",
            "\n",
            "Confusion Matrix : \n",
            "[[84721   587]\n",
            " [14487 70821]]\n"
          ]
        }
      ],
      "source": [
        "from sklearn.tree import DecisionTreeClassifier\n",
        "dtc1 = DecisionTreeClassifier(max_depth=5) # pruning technique applied: max_depth\n",
        "dtc1 = create_model(dtc1) # by default uses : gini index"
      ]
    },
    {
      "cell_type": "code",
      "execution_count": null,
      "id": "85d3fd86",
      "metadata": {
        "id": "85d3fd86",
        "outputId": "f5239911-b3c5-4b8c-854d-dd456a0a9b22"
      },
      "outputs": [
        {
          "data": {
            "image/png": "[encoded data removed]",
            "text/plain": [
              "<Figure size 1440x1440 with 1 Axes>"
            ]
          },
          "metadata": {
            "needs_background": "light"
          },
          "output_type": "display_data"
        }
      ],
      "source": [
        "from sklearn import tree\n",
        "features = X.columns\n",
        "fig = plt.figure(figsize = (20,20))\n",
        "_= tree.plot_tree(dtc1, feature_names= features, filled = True)"
      ]
    },
    {
      "cell_type": "code",
      "execution_count": null,
      "id": "b4a63131",
      "metadata": {
        "id": "b4a63131",
        "outputId": "9ff1e89a-71e8-41f5-b3f2-e4e433be7376"
      },
      "outputs": [
        {
          "name": "stdout",
          "output_type": "stream",
          "text": [
            "Classification report\n",
            "\n",
            "              precision    recall  f1-score   support\n",
            "\n",
            "           0       0.84      0.98      0.90     85308\n",
            "           1       0.97      0.81      0.89     85308\n",
            "\n",
            "    accuracy                           0.90    170616\n",
            "   macro avg       0.91      0.90      0.89    170616\n",
            "weighted avg       0.91      0.90      0.89    170616\n",
            "\n",
            "Confusion Matrix : \n",
            "[[83346  1962]\n",
            " [15867 69441]]\n"
          ]
        }
      ],
      "source": [
        "dtc2 = DecisionTreeClassifier(criterion='entropy', min_samples_leaf=55, max_depth=5)\n",
        "dtc2 = create_model(dtc2)"
      ]
    },
    {
      "cell_type": "code",
      "execution_count": null,
      "id": "29cae523",
      "metadata": {
        "id": "29cae523",
        "outputId": "cf3fa4ac-0316-4c27-8bd4-b08647ce2abc"
      },
      "outputs": [
        {
          "name": "stdout",
          "output_type": "stream",
          "text": [
            "    Feature importance  Column\n",
            "14            0.832699     V14\n",
            "4             0.069473      V4\n",
            "29            0.045665  Amount\n",
            "12            0.034439     V12\n",
            "26            0.009934     V26\n",
            "10            0.007287     V10\n",
            "16            0.000504     V16\n",
            "24            0.000000     V24\n",
            "18            0.000000     V18\n",
            "22            0.000000     V22\n"
          ]
        }
      ],
      "source": [
        "x = dtc2.feature_importances_\n",
        "dic = {'Feature importance':x, 'Column':X.columns}\n",
        "df2 = pd.DataFrame(dic).sort_values(ascending=False, by = 'Feature importance')[0:10]\n",
        "print(df2)"
      ]
    },
    {
      "cell_type": "code",
      "execution_count": null,
      "id": "b586ea97",
      "metadata": {
        "id": "b586ea97",
        "outputId": "b322f288-f4ce-48d9-a913-f1a8450bdc9f"
      },
      "outputs": [
        {
          "data": {
            "image/png": "[encoded data removed]",
            "text/plain": [
              "<Figure size 504x288 with 1 Axes>"
            ]
          },
          "metadata": {
            "needs_background": "light"
          },
          "output_type": "display_data"
        }
      ],
      "source": [
        "tmp = pd.DataFrame({'Feature': X.columns, 'Feature importance': dtc2.feature_importances_})\n",
        "tmp = tmp.sort_values(by='Feature importance',ascending=False)\n",
        "plt.figure(figsize = (7,4))\n",
        "plt.title('Features importance',fontsize=14)\n",
        "s = sns.barplot(x='Feature',y='Feature importance',data=tmp)\n",
        "s.set_xticklabels(s.get_xticklabels(),rotation=90)\n",
        "plt.show()   "
      ]
    },
    {
      "cell_type": "markdown",
      "id": "d85f24b9",
      "metadata": {
        "id": "d85f24b9"
      },
      "source": [
        "## Random Forest"
      ]
    },
    {
      "cell_type": "code",
      "execution_count": null,
      "id": "b7e4e2ff",
      "metadata": {
        "id": "b7e4e2ff",
        "outputId": "e299cbc0-944b-4116-a78d-ebf46b88a863"
      },
      "outputs": [
        {
          "name": "stdout",
          "output_type": "stream",
          "text": [
            "Classification report\n",
            "\n",
            "              precision    recall  f1-score   support\n",
            "\n",
            "           0       0.87      0.99      0.93     85308\n",
            "           1       0.99      0.85      0.92     85308\n",
            "\n",
            "    accuracy                           0.92    170616\n",
            "   macro avg       0.93      0.92      0.92    170616\n",
            "weighted avg       0.93      0.92      0.92    170616\n",
            "\n",
            "Confusion Matrix : \n",
            "[[84768   540]\n",
            " [12669 72639]]\n"
          ]
        }
      ],
      "source": [
        "# Random forest tree\n",
        "# call random forest tree from package\n",
        "from sklearn.ensemble import RandomForestClassifier\n",
        "# call object of RandomForestClassifier\n",
        "rfc = RandomForestClassifier(n_estimators = 10, max_features = 25, random_state = 1, max_depth= 4, min_samples_leaf= 50)\n",
        "rfc = create_model(rfc) "
      ]
    },
    {
      "cell_type": "code",
      "execution_count": null,
      "id": "82b5ec9d",
      "metadata": {
        "id": "82b5ec9d",
        "outputId": "4621c3b2-8eea-44a9-e689-fcbaaab057fd"
      },
      "outputs": [
        {
          "data": {
            "image/png": "[encoded data removed]",
            "text/plain": [
              "<Figure size 504x288 with 1 Axes>"
            ]
          },
          "metadata": {
            "needs_background": "light"
          },
          "output_type": "display_data"
        }
      ],
      "source": [
        "tmp = pd.DataFrame({'Feature': X.columns, 'Feature importance': rfc.feature_importances_})\n",
        "tmp = tmp.sort_values(by='Feature importance',ascending=False)\n",
        "plt.figure(figsize = (7,4))\n",
        "plt.title('Features importance',fontsize=14)\n",
        "s = sns.barplot(x='Feature',y='Feature importance',data=tmp)\n",
        "s.set_xticklabels(s.get_xticklabels(),rotation=90)\n",
        "plt.show()   "
      ]
    },
    {
      "cell_type": "markdown",
      "id": "d10e52f2",
      "metadata": {
        "id": "d10e52f2"
      },
      "source": [
        "## Stacking (Ensembling techniques)"
      ]
    },
    {
      "cell_type": "code",
      "execution_count": null,
      "id": "2dc7f1ba",
      "metadata": {
        "id": "2dc7f1ba"
      },
      "outputs": [],
      "source": [
        "#! pip install mlxtend\n",
        "model_list = [lr, dtc2, rfc]\n",
        "import six\n",
        "import sys\n",
        "sys.modules['sklearn.externals.six'] = six\n",
        "from mlxtend.classifier import StackingClassifier"
      ]
    },
    {
      "cell_type": "code",
      "execution_count": null,
      "id": "db2dbd9f",
      "metadata": {
        "id": "db2dbd9f",
        "outputId": "d4f78e12-b249-48a8-9ab2-c10dbac7c84c"
      },
      "outputs": [
        {
          "name": "stdout",
          "output_type": "stream",
          "text": [
            "Classification report\n",
            "\n",
            "              precision    recall  f1-score   support\n",
            "\n",
            "           0       0.87      0.99      0.93     85308\n",
            "           1       0.99      0.85      0.92     85308\n",
            "\n",
            "    accuracy                           0.92    170616\n",
            "   macro avg       0.93      0.92      0.92    170616\n",
            "weighted avg       0.93      0.92      0.92    170616\n",
            "\n",
            "Confusion Matrix : \n",
            "[[84607   701]\n",
            " [12669 72639]]\n"
          ]
        }
      ],
      "source": [
        "sc = StackingClassifier(classifiers = model_list, meta_classifier = LogisticRegression())\n",
        "sc = create_model(sc)"
      ]
    },
    {
      "cell_type": "code",
      "execution_count": null,
      "id": "c0efa51d",
      "metadata": {
        "id": "c0efa51d",
        "outputId": "b0973254-328b-465e-fbfa-bd4616257369"
      },
      "outputs": [
        {
          "name": "stdout",
          "output_type": "stream",
          "text": [
            "Accuracy of our stacking model is: 0.9216368922023725\n",
            "Recall value of our model is: 0.8514910676607118\n"
          ]
        }
      ],
      "source": [
        "Y_pred=sc.predict(X_test)\n",
        "print(\"Accuracy of our stacking model is:\",accuracy_score(Y_test,Y_pred))\n",
        "print(\"Recall value of our model is:\", recall_score(Y_test,Y_pred))"
      ]
    },
    {
      "cell_type": "markdown",
      "id": "198383ee",
      "metadata": {
        "id": "198383ee"
      },
      "source": [
        "## Boosting techniques"
      ]
    },
    {
      "cell_type": "code",
      "execution_count": null,
      "id": "f9da910e",
      "metadata": {
        "id": "f9da910e",
        "outputId": "4ea80126-510a-44a0-f869-f87905614119"
      },
      "outputs": [
        {
          "name": "stdout",
          "output_type": "stream",
          "text": [
            "Classification report\n",
            "\n",
            "              precision    recall  f1-score   support\n",
            "\n",
            "           0       0.91      0.96      0.93     85308\n",
            "           1       0.96      0.90      0.93     85308\n",
            "\n",
            "    accuracy                           0.93    170616\n",
            "   macro avg       0.93      0.93      0.93    170616\n",
            "weighted avg       0.93      0.93      0.93    170616\n",
            "\n",
            "Confusion Matrix : \n",
            "[[81939  3369]\n",
            " [ 8227 77081]]\n"
          ]
        }
      ],
      "source": [
        "#1. ADA Boost\n",
        "from sklearn.ensemble import AdaBoostClassifier\n",
        "#Create the object of AdaBoostClassifier class and passing the no. of parameter\n",
        "#in this class\n",
        "ada=AdaBoostClassifier(n_estimators=10) # n_estimators can be <=100\n",
        "ada = create_model(ada)"
      ]
    },
    {
      "cell_type": "code",
      "execution_count": null,
      "id": "47b5ea20",
      "metadata": {
        "id": "47b5ea20",
        "outputId": "9ad1fa73-ede0-4dfc-f167-4a18d1a13161"
      },
      "outputs": [
        {
          "name": "stdout",
          "output_type": "stream",
          "text": [
            "Accuracy of our ADABoost model is: 0.9320345102452291\n",
            "Recall value of our model is: 0.9035612134852534\n"
          ]
        }
      ],
      "source": [
        "Y_pred=ada.predict(X_test)\n",
        "print(\"Accuracy of our ADABoost model is:\",accuracy_score(Y_test,Y_pred))\n",
        "print(\"Recall value of our model is:\", recall_score(Y_test,Y_pred))"
      ]
    },
    {
      "cell_type": "code",
      "execution_count": null,
      "id": "32aeec9e",
      "metadata": {
        "id": "32aeec9e",
        "outputId": "68bb7470-7688-4404-e0ae-c0a7f6d7363a"
      },
      "outputs": [
        {
          "name": "stdout",
          "output_type": "stream",
          "text": [
            "Classification report\n",
            "\n",
            "              precision    recall  f1-score   support\n",
            "\n",
            "           0       0.88      0.99      0.93     85308\n",
            "           1       0.99      0.86      0.92     85308\n",
            "\n",
            "    accuracy                           0.93    170616\n",
            "   macro avg       0.93      0.93      0.93    170616\n",
            "weighted avg       0.93      0.93      0.93    170616\n",
            "\n",
            "Confusion Matrix : \n",
            "[[84607   701]\n",
            " [11973 73335]]\n"
          ]
        }
      ],
      "source": [
        "#2. Gradient boosting\n",
        "# call GradientBoostingClassifier class from following package\n",
        "from sklearn.ensemble import GradientBoostingClassifier\n",
        "\n",
        "gbc = GradientBoostingClassifier(n_estimators = 60) # not>100\n",
        "gbc = create_model(gbc)"
      ]
    },
    {
      "cell_type": "code",
      "execution_count": null,
      "id": "669353a0",
      "metadata": {
        "id": "669353a0",
        "outputId": "e1135f0b-f6ed-48ea-d9e6-0c7a7f74da51"
      },
      "outputs": [
        {
          "name": "stdout",
          "output_type": "stream",
          "text": [
            "[01:57:42] WARNING: C:/Users/Administrator/workspace/xgboost-win64_release_1.5.1/src/learner.cc:1115: Starting in XGBoost 1.3.0, the default evaluation metric used with the objective 'binary:logistic' was changed from 'error' to 'logloss'. Explicitly set eval_metric if you'd like to restore the old behavior.\n",
            "Classification report\n",
            "\n",
            "              precision    recall  f1-score   support\n",
            "\n",
            "           0       0.84      1.00      0.91     85308\n",
            "           1       1.00      0.82      0.90     85308\n",
            "\n",
            "    accuracy                           0.91    170616\n",
            "   macro avg       0.92      0.91      0.91    170616\n",
            "weighted avg       0.92      0.91      0.91    170616\n",
            "\n",
            "Confusion Matrix : \n",
            "[[85196   112]\n",
            " [15762 69546]]\n"
          ]
        }
      ],
      "source": [
        "#3. XGBoost\n",
        "# ! pip install xgboost\n",
        "from xgboost import XGBClassifier\n",
        "xgc = XGBClassifier(n_estimators = 20, reg_alpha = 3)\n",
        "xgc = create_model(xgc)"
      ]
    },
    {
      "cell_type": "markdown",
      "id": "4686c23a",
      "metadata": {
        "id": "4686c23a"
      },
      "source": [
        "## Naive Bayes"
      ]
    },
    {
      "cell_type": "code",
      "execution_count": null,
      "id": "024e30aa",
      "metadata": {
        "id": "024e30aa",
        "outputId": "24d78d3f-0a86-4e4a-acd0-9f4c7b9a93d9"
      },
      "outputs": [
        {
          "name": "stdout",
          "output_type": "stream",
          "text": [
            "Classification report\n",
            "\n",
            "              precision    recall  f1-score   support\n",
            "\n",
            "           0       0.77      0.99      0.87     85308\n",
            "           1       0.99      0.71      0.83     85308\n",
            "\n",
            "    accuracy                           0.85    170616\n",
            "   macro avg       0.88      0.85      0.85    170616\n",
            "weighted avg       0.88      0.85      0.85    170616\n",
            "\n",
            "Confusion Matrix : \n",
            "[[84610   698]\n",
            " [24671 60637]]\n"
          ]
        }
      ],
      "source": [
        "from sklearn.naive_bayes import GaussianNB\n",
        "gnb = GaussianNB()\n",
        "gnb = create_model(gnb)"
      ]
    },
    {
      "cell_type": "markdown",
      "id": "f9caace4",
      "metadata": {
        "id": "f9caace4"
      },
      "source": [
        "## KNN"
      ]
    },
    {
      "cell_type": "code",
      "execution_count": null,
      "id": "1ade702f",
      "metadata": {
        "scrolled": true,
        "id": "1ade702f",
        "outputId": "5c81cdc9-09d2-483a-a612-6d03baeeb5aa"
      },
      "outputs": [
        {
          "name": "stdout",
          "output_type": "stream",
          "text": [
            "Classification report\n",
            "\n",
            "              precision    recall  f1-score   support\n",
            "\n",
            "           0       0.55      1.00      0.71     85308\n",
            "           1       0.99      0.18      0.30     85308\n",
            "\n",
            "    accuracy                           0.59    170616\n",
            "   macro avg       0.77      0.59      0.51    170616\n",
            "weighted avg       0.77      0.59      0.51    170616\n",
            "\n",
            "Confusion Matrix : \n",
            "[[85148   160]\n",
            " [70011 15297]]\n"
          ]
        }
      ],
      "source": [
        "# KNN works well with small number of input variables\n",
        "# number of K is decided by cross validation\n",
        "from sklearn.neighbors import KNeighborsClassifier\n",
        "KNC = KNeighborsClassifier(n_neighbors=5,algorithm=\"kd_tree\", n_jobs = 16)\n",
        "KNC = create_model(KNC)"
      ]
    },
    {
      "cell_type": "markdown",
      "id": "4a738478",
      "metadata": {
        "id": "4a738478"
      },
      "source": [
        "# Conclusion\n",
        "In this machine learning project, a binary classifier was implemented using various classification algorithms to predict \n",
        "potential fraud transactions. Through this project, several techniques were applied to address feature selection,\n",
        "check correlation and treat major class imbalance problem.\n",
        "\n",
        "28 features columns out of 31 are the result of the PCA transformation. The output variable is named 'Class'. \n",
        "Visualizing data distribution with respect to time and frequency was necessary. However, the dataset was heavily imbalanced. \n",
        "Only 0.17% of all transactions were fraudulent.\n",
        "\n",
        "## Results\n",
        "Looking at model results, the best accuracy on the test set was achieved by the boosting technique algorithms followed by Logistic Regression. Boosting is an ensemble meta-algorithm that converts weak learners to strong ones. Important features were showcased while using Decision tree and Random Forest.\n",
        "\n",
        "#### Accuracy of  ADABoost model is: 0.9320345102452291\n",
        "#### Recall value : 0.9035612134852534\n",
        "##### F1 score: 0.93\n",
        "    \n",
        "#### Accuracy of Gradient Boosting model is: 0.93\n",
        "#### Recall value: 0.86\n",
        "##### F1 score: 0.92\n",
        "\n",
        "Stacking and Random forest algorithms also performed well after some hyper-parameter tuning."
      ]
    },
    {
      "cell_type": "markdown",
      "id": "50b62327",
      "metadata": {
        "id": "50b62327"
      },
      "source": [
        "## Why KNN performed poorly \n",
        "KNN does not work well with large dataset: \n",
        "In large datasets, the cost of calculating the distance between the new point and each existing point is huge which \n",
        "degrades the performance of the algorithm. Does not work well with high dimensions or noise in data.\n",
        "\n",
        "Focus was on getting optimal Recall score (reducing False-negatives) as machine predicting not fraud, but actual value being \n",
        "fraud would be a major concern for the company and would lead to a loss of customers. \n",
        "It also makes sense to compare F1 scores to get the model with the best score on jointly precision and recall."
      ]
    },
    {
      "cell_type": "code",
      "execution_count": null,
      "id": "374461a4",
      "metadata": {
        "id": "374461a4"
      },
      "outputs": [],
      "source": [
        ""
      ]
    }
  ],
  "metadata": {
    "kernelspec": {
      "display_name": "Python 3",
      "language": "python",
      "name": "python3"
    },
    "language_info": {
      "codemirror_mode": {
        "name": "ipython",
        "version": 3
      },
      "file_extension": ".py",
      "mimetype": "text/x-python",
      "name": "python",
      "nbconvert_exporter": "python",
      "pygments_lexer": "ipython3",
      "version": "3.8.8"
    },
    "colab": {
      "name": "CREDIT_CARD.ipynb",
      "provenance": [],
      "include_colab_link": true
    }
  },
  "nbformat": 4,
  "nbformat_minor": 5
}